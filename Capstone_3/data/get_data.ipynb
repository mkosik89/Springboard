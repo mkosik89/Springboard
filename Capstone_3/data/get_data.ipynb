{
 "cells": [
  {
   "cell_type": "code",
   "execution_count": 2,
   "metadata": {},
   "outputs": [],
   "source": [
    "import pandas as pd\n",
    "import numpy as np\n",
    "import datetime\n",
    "import pandas_datareader.data as web\n",
    "import matplotlib.pyplot as plt\n",
    "from fredapi import Fred\n",
    "import quandl\n",
    "\n",
    "import os\n",
    "\n",
    "from scipy.stats.mstats import gmean\n",
    "\n",
    "%matplotlib inline"
   ]
  },
  {
   "cell_type": "code",
   "execution_count": 24,
   "metadata": {},
   "outputs": [],
   "source": [
    "start_d = datetime.datetime(1970, 1, 1)\n",
    "end_d = datetime.datetime(2019, 12, 31)"
   ]
  },
  {
   "cell_type": "code",
   "execution_count": 65,
   "metadata": {},
   "outputs": [],
   "source": [
    "spx = web.DataReader('^GSPC', 'yahoo', start=start_d, end=end_d).dropna()"
   ]
  },
  {
   "cell_type": "code",
   "execution_count": 66,
   "metadata": {},
   "outputs": [
    {
     "data": {
      "text/html": [
       "<div>\n",
       "<style scoped>\n",
       "    .dataframe tbody tr th:only-of-type {\n",
       "        vertical-align: middle;\n",
       "    }\n",
       "\n",
       "    .dataframe tbody tr th {\n",
       "        vertical-align: top;\n",
       "    }\n",
       "\n",
       "    .dataframe thead th {\n",
       "        text-align: right;\n",
       "    }\n",
       "</style>\n",
       "<table border=\"1\" class=\"dataframe\">\n",
       "  <thead>\n",
       "    <tr style=\"text-align: right;\">\n",
       "      <th></th>\n",
       "      <th>High</th>\n",
       "      <th>Low</th>\n",
       "      <th>Open</th>\n",
       "      <th>Close</th>\n",
       "      <th>Volume</th>\n",
       "      <th>Adj Close</th>\n",
       "    </tr>\n",
       "    <tr>\n",
       "      <th>Date</th>\n",
       "      <th></th>\n",
       "      <th></th>\n",
       "      <th></th>\n",
       "      <th></th>\n",
       "      <th></th>\n",
       "      <th></th>\n",
       "    </tr>\n",
       "  </thead>\n",
       "  <tbody>\n",
       "    <tr>\n",
       "      <th>1970-01-02</th>\n",
       "      <td>93.540001</td>\n",
       "      <td>91.790001</td>\n",
       "      <td>92.059998</td>\n",
       "      <td>93.000000</td>\n",
       "      <td>8050000</td>\n",
       "      <td>93.000000</td>\n",
       "    </tr>\n",
       "    <tr>\n",
       "      <th>1970-01-05</th>\n",
       "      <td>94.250000</td>\n",
       "      <td>92.529999</td>\n",
       "      <td>93.000000</td>\n",
       "      <td>93.459999</td>\n",
       "      <td>11490000</td>\n",
       "      <td>93.459999</td>\n",
       "    </tr>\n",
       "    <tr>\n",
       "      <th>1970-01-06</th>\n",
       "      <td>93.809998</td>\n",
       "      <td>92.129997</td>\n",
       "      <td>93.459999</td>\n",
       "      <td>92.820000</td>\n",
       "      <td>11460000</td>\n",
       "      <td>92.820000</td>\n",
       "    </tr>\n",
       "    <tr>\n",
       "      <th>1970-01-07</th>\n",
       "      <td>93.379997</td>\n",
       "      <td>91.930000</td>\n",
       "      <td>92.820000</td>\n",
       "      <td>92.629997</td>\n",
       "      <td>10010000</td>\n",
       "      <td>92.629997</td>\n",
       "    </tr>\n",
       "    <tr>\n",
       "      <th>1970-01-08</th>\n",
       "      <td>93.470001</td>\n",
       "      <td>91.989998</td>\n",
       "      <td>92.629997</td>\n",
       "      <td>92.680000</td>\n",
       "      <td>10670000</td>\n",
       "      <td>92.680000</td>\n",
       "    </tr>\n",
       "  </tbody>\n",
       "</table>\n",
       "</div>"
      ],
      "text/plain": [
       "                 High        Low       Open      Close    Volume  Adj Close\n",
       "Date                                                                       \n",
       "1970-01-02  93.540001  91.790001  92.059998  93.000000   8050000  93.000000\n",
       "1970-01-05  94.250000  92.529999  93.000000  93.459999  11490000  93.459999\n",
       "1970-01-06  93.809998  92.129997  93.459999  92.820000  11460000  92.820000\n",
       "1970-01-07  93.379997  91.930000  92.820000  92.629997  10010000  92.629997\n",
       "1970-01-08  93.470001  91.989998  92.629997  92.680000  10670000  92.680000"
      ]
     },
     "execution_count": 66,
     "metadata": {},
     "output_type": "execute_result"
    }
   ],
   "source": [
    "spx.head()"
   ]
  },
  {
   "cell_type": "code",
   "execution_count": 67,
   "metadata": {},
   "outputs": [],
   "source": [
    "spx.to_csv('raw_data.csv')"
   ]
  },
  {
   "cell_type": "code",
   "execution_count": 30,
   "metadata": {},
   "outputs": [
    {
     "data": {
      "text/plain": [
       "Date\n",
       "1970-01-03      93.000000\n",
       "1970-01-10      92.400002\n",
       "1970-01-17      90.919998\n",
       "1970-01-24      89.370003\n",
       "1970-01-31      85.019997\n",
       "                 ...     \n",
       "2019-12-07    3145.909912\n",
       "2019-12-14    3168.800049\n",
       "2019-12-21    3221.219971\n",
       "2019-12-28    3240.020020\n",
       "2020-01-04    3230.780029\n",
       "Freq: W-SAT, Name: Close, Length: 2610, dtype: float64"
      ]
     },
     "execution_count": 30,
     "metadata": {},
     "output_type": "execute_result"
    }
   ],
   "source": [
    "spx.Close.resample('W-SAT').last()"
   ]
  },
  {
   "cell_type": "code",
   "execution_count": 51,
   "metadata": {},
   "outputs": [],
   "source": [
    "weekly = pd.DataFrame({'Close': spx.Close.resample('W-SAT').last(), 'High':spx.High.resample('W-SAT').max(), 'Low':spx.Low.resample('W-SAT').min() })"
   ]
  },
  {
   "cell_type": "code",
   "execution_count": 59,
   "metadata": {},
   "outputs": [],
   "source": [
    "weekly['L_changeClose'] = np.log(weekly.Close/weekly.Close.shift(1))\n",
    "weekly['L_changeHC'] = np.log(weekly.High/weekly.Close.shift(1))\n",
    "weekly['L_changeLC'] = np.log(weekly.Low/weekly.Close.shift(1))\n"
   ]
  },
  {
   "cell_type": "code",
   "execution_count": null,
   "metadata": {},
   "outputs": [],
   "source": []
  }
 ],
 "metadata": {
  "kernelspec": {
   "display_name": "Python 3",
   "language": "python",
   "name": "python3"
  },
  "varInspector": {
   "cols": {
    "lenName": 16,
    "lenType": 16,
    "lenVar": 40
   },
   "kernels_config": {
    "python": {
     "delete_cmd_postfix": "",
     "delete_cmd_prefix": "del ",
     "library": "var_list.py",
     "varRefreshCmd": "print(var_dic_list())"
    },
    "r": {
     "delete_cmd_postfix": ") ",
     "delete_cmd_prefix": "rm(",
     "library": "var_list.r",
     "varRefreshCmd": "cat(var_dic_list()) "
    }
   },
   "types_to_exclude": [
    "module",
    "function",
    "builtin_function_or_method",
    "instance",
    "_Feature"
   ],
   "window_display": false
  }
 },
 "nbformat": 4,
 "nbformat_minor": 4
}
