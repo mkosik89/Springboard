{
 "cells": [
  {
   "cell_type": "code",
   "execution_count": 1,
   "metadata": {},
   "outputs": [],
   "source": [
    "import pandas as pd\n",
    "import numpy as np\n",
    "import matplotlib.pyplot as plt\n",
    "\n",
    "%matplotlib inline"
   ]
  },
  {
   "cell_type": "code",
   "execution_count": 71,
   "metadata": {},
   "outputs": [],
   "source": [
    "f = r'C:\\Users\\mattk\\code\\Mkt_Data\\all_futures.csv'"
   ]
  },
  {
   "cell_type": "code",
   "execution_count": 72,
   "metadata": {},
   "outputs": [],
   "source": [
    "df = pd.read_csv(f,index_col=0,parse_dates=[0])"
   ]
  },
  {
   "cell_type": "code",
   "execution_count": 76,
   "metadata": {},
   "outputs": [],
   "source": [
    "df = df.resample('1B').last()"
   ]
  },
  {
   "cell_type": "code",
   "execution_count": 149,
   "metadata": {},
   "outputs": [
    {
     "data": {
      "text/html": [
       "<div>\n",
       "<style scoped>\n",
       "    .dataframe tbody tr th:only-of-type {\n",
       "        vertical-align: middle;\n",
       "    }\n",
       "\n",
       "    .dataframe tbody tr th {\n",
       "        vertical-align: top;\n",
       "    }\n",
       "\n",
       "    .dataframe thead th {\n",
       "        text-align: right;\n",
       "    }\n",
       "</style>\n",
       "<table border=\"1\" class=\"dataframe\">\n",
       "  <thead>\n",
       "    <tr style=\"text-align: right;\">\n",
       "      <th></th>\n",
       "      <th>AEX</th>\n",
       "      <th>AUD</th>\n",
       "      <th>BOBL</th>\n",
       "      <th>BTP</th>\n",
       "      <th>BUND</th>\n",
       "      <th>CAC</th>\n",
       "      <th>COPPER</th>\n",
       "      <th>CORN</th>\n",
       "      <th>CRUDE_W</th>\n",
       "      <th>EDOLLAR</th>\n",
       "      <th>...</th>\n",
       "      <th>SMI</th>\n",
       "      <th>SOYBEAN</th>\n",
       "      <th>SP500</th>\n",
       "      <th>US10</th>\n",
       "      <th>US2</th>\n",
       "      <th>US20</th>\n",
       "      <th>US5</th>\n",
       "      <th>V2X</th>\n",
       "      <th>VIX</th>\n",
       "      <th>WHEAT</th>\n",
       "    </tr>\n",
       "    <tr>\n",
       "      <th>DATETIME</th>\n",
       "      <th></th>\n",
       "      <th></th>\n",
       "      <th></th>\n",
       "      <th></th>\n",
       "      <th></th>\n",
       "      <th></th>\n",
       "      <th></th>\n",
       "      <th></th>\n",
       "      <th></th>\n",
       "      <th></th>\n",
       "      <th></th>\n",
       "      <th></th>\n",
       "      <th></th>\n",
       "      <th></th>\n",
       "      <th></th>\n",
       "      <th></th>\n",
       "      <th></th>\n",
       "      <th></th>\n",
       "      <th></th>\n",
       "      <th></th>\n",
       "      <th></th>\n",
       "    </tr>\n",
       "  </thead>\n",
       "  <tbody>\n",
       "    <tr>\n",
       "      <th>1970-03-30</th>\n",
       "      <td>NaN</td>\n",
       "      <td>NaN</td>\n",
       "      <td>NaN</td>\n",
       "      <td>NaN</td>\n",
       "      <td>NaN</td>\n",
       "      <td>NaN</td>\n",
       "      <td>NaN</td>\n",
       "      <td>NaN</td>\n",
       "      <td>NaN</td>\n",
       "      <td>NaN</td>\n",
       "      <td>...</td>\n",
       "      <td>NaN</td>\n",
       "      <td>NaN</td>\n",
       "      <td>NaN</td>\n",
       "      <td>NaN</td>\n",
       "      <td>NaN</td>\n",
       "      <td>NaN</td>\n",
       "      <td>NaN</td>\n",
       "      <td>NaN</td>\n",
       "      <td>NaN</td>\n",
       "      <td>NaN</td>\n",
       "    </tr>\n",
       "    <tr>\n",
       "      <th>1970-03-31</th>\n",
       "      <td>NaN</td>\n",
       "      <td>NaN</td>\n",
       "      <td>NaN</td>\n",
       "      <td>NaN</td>\n",
       "      <td>NaN</td>\n",
       "      <td>NaN</td>\n",
       "      <td>NaN</td>\n",
       "      <td>NaN</td>\n",
       "      <td>NaN</td>\n",
       "      <td>NaN</td>\n",
       "      <td>...</td>\n",
       "      <td>NaN</td>\n",
       "      <td>NaN</td>\n",
       "      <td>NaN</td>\n",
       "      <td>NaN</td>\n",
       "      <td>NaN</td>\n",
       "      <td>NaN</td>\n",
       "      <td>NaN</td>\n",
       "      <td>NaN</td>\n",
       "      <td>NaN</td>\n",
       "      <td>NaN</td>\n",
       "    </tr>\n",
       "    <tr>\n",
       "      <th>1970-04-01</th>\n",
       "      <td>NaN</td>\n",
       "      <td>NaN</td>\n",
       "      <td>NaN</td>\n",
       "      <td>NaN</td>\n",
       "      <td>NaN</td>\n",
       "      <td>NaN</td>\n",
       "      <td>NaN</td>\n",
       "      <td>NaN</td>\n",
       "      <td>NaN</td>\n",
       "      <td>NaN</td>\n",
       "      <td>...</td>\n",
       "      <td>NaN</td>\n",
       "      <td>NaN</td>\n",
       "      <td>NaN</td>\n",
       "      <td>NaN</td>\n",
       "      <td>NaN</td>\n",
       "      <td>NaN</td>\n",
       "      <td>NaN</td>\n",
       "      <td>NaN</td>\n",
       "      <td>NaN</td>\n",
       "      <td>NaN</td>\n",
       "    </tr>\n",
       "    <tr>\n",
       "      <th>1970-04-02</th>\n",
       "      <td>NaN</td>\n",
       "      <td>NaN</td>\n",
       "      <td>NaN</td>\n",
       "      <td>NaN</td>\n",
       "      <td>NaN</td>\n",
       "      <td>NaN</td>\n",
       "      <td>NaN</td>\n",
       "      <td>NaN</td>\n",
       "      <td>NaN</td>\n",
       "      <td>NaN</td>\n",
       "      <td>...</td>\n",
       "      <td>NaN</td>\n",
       "      <td>NaN</td>\n",
       "      <td>NaN</td>\n",
       "      <td>NaN</td>\n",
       "      <td>NaN</td>\n",
       "      <td>NaN</td>\n",
       "      <td>NaN</td>\n",
       "      <td>NaN</td>\n",
       "      <td>NaN</td>\n",
       "      <td>NaN</td>\n",
       "    </tr>\n",
       "    <tr>\n",
       "      <th>1970-04-03</th>\n",
       "      <td>NaN</td>\n",
       "      <td>NaN</td>\n",
       "      <td>NaN</td>\n",
       "      <td>NaN</td>\n",
       "      <td>NaN</td>\n",
       "      <td>NaN</td>\n",
       "      <td>NaN</td>\n",
       "      <td>NaN</td>\n",
       "      <td>NaN</td>\n",
       "      <td>NaN</td>\n",
       "      <td>...</td>\n",
       "      <td>NaN</td>\n",
       "      <td>NaN</td>\n",
       "      <td>NaN</td>\n",
       "      <td>NaN</td>\n",
       "      <td>NaN</td>\n",
       "      <td>NaN</td>\n",
       "      <td>NaN</td>\n",
       "      <td>NaN</td>\n",
       "      <td>NaN</td>\n",
       "      <td>NaN</td>\n",
       "    </tr>\n",
       "  </tbody>\n",
       "</table>\n",
       "<p>5 rows × 38 columns</p>\n",
       "</div>"
      ],
      "text/plain": [
       "            AEX  AUD  BOBL  BTP  BUND  CAC  COPPER  CORN  CRUDE_W  EDOLLAR  \\\n",
       "DATETIME                                                                     \n",
       "1970-03-30  NaN  NaN   NaN  NaN   NaN  NaN     NaN   NaN      NaN      NaN   \n",
       "1970-03-31  NaN  NaN   NaN  NaN   NaN  NaN     NaN   NaN      NaN      NaN   \n",
       "1970-04-01  NaN  NaN   NaN  NaN   NaN  NaN     NaN   NaN      NaN      NaN   \n",
       "1970-04-02  NaN  NaN   NaN  NaN   NaN  NaN     NaN   NaN      NaN      NaN   \n",
       "1970-04-03  NaN  NaN   NaN  NaN   NaN  NaN     NaN   NaN      NaN      NaN   \n",
       "\n",
       "            ...  SMI  SOYBEAN  SP500  US10  US2  US20  US5  V2X  VIX  WHEAT  \n",
       "DATETIME    ...                                                              \n",
       "1970-03-30  ...  NaN      NaN    NaN   NaN  NaN   NaN  NaN  NaN  NaN    NaN  \n",
       "1970-03-31  ...  NaN      NaN    NaN   NaN  NaN   NaN  NaN  NaN  NaN    NaN  \n",
       "1970-04-01  ...  NaN      NaN    NaN   NaN  NaN   NaN  NaN  NaN  NaN    NaN  \n",
       "1970-04-02  ...  NaN      NaN    NaN   NaN  NaN   NaN  NaN  NaN  NaN    NaN  \n",
       "1970-04-03  ...  NaN      NaN    NaN   NaN  NaN   NaN  NaN  NaN  NaN    NaN  \n",
       "\n",
       "[5 rows x 38 columns]"
      ]
     },
     "execution_count": 149,
     "metadata": {},
     "output_type": "execute_result"
    }
   ],
   "source": [
    "df.head()"
   ]
  },
  {
   "cell_type": "code",
   "execution_count": null,
   "metadata": {},
   "outputs": [],
   "source": []
  },
  {
   "cell_type": "code",
   "execution_count": null,
   "metadata": {},
   "outputs": [],
   "source": []
  },
  {
   "cell_type": "code",
   "execution_count": 83,
   "metadata": {},
   "outputs": [],
   "source": [
    "Np = 1 # number trials\n",
    "T = 5 # years\n",
    "#annualized PERCENTAGE figures\n",
    "\n",
    "mu = .2\n",
    "sigma = .2\n",
    "dt = 1/365\n",
    "N = round(T/dt)\n",
    "\n",
    "S0 = 100\n",
    "\n",
    "X = np.ones((N,Np))\n",
    "X = np.random.normal((mu-sigma**2/2)*dt,sigma*np.sqrt(dt),X.shape)\n",
    "X = np.cumsum(X,axis=0)\n",
    "S = S0 * np.exp(X)\n",
    "\n",
    "S = np.insert(S, 0, S0, axis=0)"
   ]
  },
  {
   "cell_type": "code",
   "execution_count": 133,
   "metadata": {},
   "outputs": [],
   "source": [
    "df2 = pd.DataFrame(S,columns=['Price'])"
   ]
  },
  {
   "cell_type": "code",
   "execution_count": 145,
   "metadata": {},
   "outputs": [],
   "source": [
    "def calc_macd(ser,s=8,l=24):\n",
    "    '''\n",
    "    input = series\n",
    "    \n",
    "    span = 2k-1\n",
    "    '''\n",
    "    x = ser.ewm(span=(2*s-1)).mean() - ser.ewm(span=(2*l-1)).mean()\n",
    "    y = x/ser.diff().ewm(span=25).std()\n",
    "    y = y/y.rolling(252).std()\n",
    "    return y\n",
    "        \n",
    "        "
   ]
  },
  {
   "cell_type": "code",
   "execution_count": 146,
   "metadata": {},
   "outputs": [],
   "source": [
    "df2['ma1'] = calc_macd(df2.Price)\n",
    "df2['ma2'] = calc_macd(df2.Price,16,48)\n",
    "df2['ma3'] = calc_macd(df2.Price,32,96)"
   ]
  },
  {
   "cell_type": "code",
   "execution_count": 147,
   "metadata": {},
   "outputs": [
    {
     "data": {
      "text/plain": [
       "<matplotlib.axes._subplots.AxesSubplot at 0x16525c16610>"
      ]
     },
     "execution_count": 147,
     "metadata": {},
     "output_type": "execute_result"
    },
    {
     "data": {
      "image/png": "[encoded data removed]",
      "text/plain": [
       "<Figure size 432x288 with 1 Axes>"
      ]
     },
     "metadata": {
      "needs_background": "light"
     },
     "output_type": "display_data"
    }
   ],
   "source": [
    "df2[['ma1','ma2','ma3']].plot()"
   ]
  },
  {
   "cell_type": "code",
   "execution_count": 148,
   "metadata": {},
   "outputs": [
    {
     "data": {
      "text/plain": [
       "[<matplotlib.lines.Line2D at 0x16525cb3be0>]"
      ]
     },
     "execution_count": 148,
     "metadata": {},
     "output_type": "execute_result"
    },
    {
     "data": {
      "image/png": "[encoded data removed]",
      "text/plain": [
       "<Figure size 432x288 with 1 Axes>"
      ]
     },
     "metadata": {
      "needs_background": "light"
     },
     "output_type": "display_data"
    }
   ],
   "source": [
    "plt.plot(df2.Price)"
   ]
  },
  {
   "cell_type": "code",
   "execution_count": 151,
   "metadata": {},
   "outputs": [
    {
     "data": {
      "text/html": [
       "<div>\n",
       "<style scoped>\n",
       "    .dataframe tbody tr th:only-of-type {\n",
       "        vertical-align: middle;\n",
       "    }\n",
       "\n",
       "    .dataframe tbody tr th {\n",
       "        vertical-align: top;\n",
       "    }\n",
       "\n",
       "    .dataframe thead th {\n",
       "        text-align: right;\n",
       "    }\n",
       "</style>\n",
       "<table border=\"1\" class=\"dataframe\">\n",
       "  <thead>\n",
       "    <tr style=\"text-align: right;\">\n",
       "      <th></th>\n",
       "      <th>AEX</th>\n",
       "      <th>AUD</th>\n",
       "      <th>BOBL</th>\n",
       "      <th>BTP</th>\n",
       "      <th>BUND</th>\n",
       "      <th>CAC</th>\n",
       "      <th>COPPER</th>\n",
       "      <th>CORN</th>\n",
       "      <th>CRUDE_W</th>\n",
       "      <th>EDOLLAR</th>\n",
       "      <th>...</th>\n",
       "      <th>SMI</th>\n",
       "      <th>SOYBEAN</th>\n",
       "      <th>SP500</th>\n",
       "      <th>US10</th>\n",
       "      <th>US2</th>\n",
       "      <th>US20</th>\n",
       "      <th>US5</th>\n",
       "      <th>V2X</th>\n",
       "      <th>VIX</th>\n",
       "      <th>WHEAT</th>\n",
       "    </tr>\n",
       "  </thead>\n",
       "  <tbody>\n",
       "    <tr>\n",
       "      <th>count</th>\n",
       "      <td>2741.000000</td>\n",
       "      <td>8163.000000</td>\n",
       "      <td>3139.000000</td>\n",
       "      <td>2634.000000</td>\n",
       "      <td>3458.000000</td>\n",
       "      <td>2828.000000</td>\n",
       "      <td>6090.000000</td>\n",
       "      <td>11826.000000</td>\n",
       "      <td>7565.000000</td>\n",
       "      <td>8939.000000</td>\n",
       "      <td>...</td>\n",
       "      <td>1447.000000</td>\n",
       "      <td>9050.000000</td>\n",
       "      <td>5564.000000</td>\n",
       "      <td>9258.000000</td>\n",
       "      <td>4899.000000</td>\n",
       "      <td>10304.000000</td>\n",
       "      <td>7622.000000</td>\n",
       "      <td>1903.000000</td>\n",
       "      <td>3529.000000</td>\n",
       "      <td>11802.000000</td>\n",
       "    </tr>\n",
       "    <tr>\n",
       "      <th>mean</th>\n",
       "      <td>0.150224</td>\n",
       "      <td>0.000063</td>\n",
       "      <td>0.013554</td>\n",
       "      <td>0.032584</td>\n",
       "      <td>0.026951</td>\n",
       "      <td>1.249646</td>\n",
       "      <td>0.000113</td>\n",
       "      <td>-0.027123</td>\n",
       "      <td>0.003685</td>\n",
       "      <td>0.003071</td>\n",
       "      <td>...</td>\n",
       "      <td>3.320923</td>\n",
       "      <td>0.101288</td>\n",
       "      <td>0.373266</td>\n",
       "      <td>0.020400</td>\n",
       "      <td>0.005495</td>\n",
       "      <td>0.021866</td>\n",
       "      <td>0.013564</td>\n",
       "      <td>-0.008644</td>\n",
       "      <td>-0.013807</td>\n",
       "      <td>-0.037254</td>\n",
       "    </tr>\n",
       "    <tr>\n",
       "      <th>std</th>\n",
       "      <td>5.005429</td>\n",
       "      <td>0.005517</td>\n",
       "      <td>0.235026</td>\n",
       "      <td>0.740141</td>\n",
       "      <td>0.504951</td>\n",
       "      <td>57.042019</td>\n",
       "      <td>0.039928</td>\n",
       "      <td>5.036722</td>\n",
       "      <td>0.961487</td>\n",
       "      <td>0.075646</td>\n",
       "      <td>...</td>\n",
       "      <td>93.975442</td>\n",
       "      <td>10.728761</td>\n",
       "      <td>17.752696</td>\n",
       "      <td>0.436985</td>\n",
       "      <td>0.100209</td>\n",
       "      <td>0.750395</td>\n",
       "      <td>0.271751</td>\n",
       "      <td>0.736373</td>\n",
       "      <td>0.789690</td>\n",
       "      <td>7.941855</td>\n",
       "    </tr>\n",
       "    <tr>\n",
       "      <th>min</th>\n",
       "      <td>-53.250000</td>\n",
       "      <td>-0.073400</td>\n",
       "      <td>-1.340000</td>\n",
       "      <td>-7.460000</td>\n",
       "      <td>-3.050000</td>\n",
       "      <td>-595.500000</td>\n",
       "      <td>-0.275500</td>\n",
       "      <td>-40.000000</td>\n",
       "      <td>-10.090000</td>\n",
       "      <td>-0.760000</td>\n",
       "      <td>...</td>\n",
       "      <td>-1138.000000</td>\n",
       "      <td>-74.250000</td>\n",
       "      <td>-250.500000</td>\n",
       "      <td>-2.843750</td>\n",
       "      <td>-0.992188</td>\n",
       "      <td>-7.375000</td>\n",
       "      <td>-2.171875</td>\n",
       "      <td>-7.400000</td>\n",
       "      <td>-14.550000</td>\n",
       "      <td>-90.000000</td>\n",
       "    </tr>\n",
       "    <tr>\n",
       "      <th>25%</th>\n",
       "      <td>-2.050000</td>\n",
       "      <td>-0.002600</td>\n",
       "      <td>-0.100000</td>\n",
       "      <td>-0.290000</td>\n",
       "      <td>-0.240000</td>\n",
       "      <td>-24.000000</td>\n",
       "      <td>-0.013500</td>\n",
       "      <td>-2.000000</td>\n",
       "      <td>-0.280000</td>\n",
       "      <td>-0.035000</td>\n",
       "      <td>...</td>\n",
       "      <td>-38.000000</td>\n",
       "      <td>-4.250000</td>\n",
       "      <td>-7.000000</td>\n",
       "      <td>-0.218750</td>\n",
       "      <td>-0.039062</td>\n",
       "      <td>-0.375000</td>\n",
       "      <td>-0.132812</td>\n",
       "      <td>-0.300000</td>\n",
       "      <td>-0.300000</td>\n",
       "      <td>-3.250000</td>\n",
       "    </tr>\n",
       "    <tr>\n",
       "      <th>50%</th>\n",
       "      <td>0.300000</td>\n",
       "      <td>0.000200</td>\n",
       "      <td>0.010000</td>\n",
       "      <td>0.040000</td>\n",
       "      <td>0.020000</td>\n",
       "      <td>3.500000</td>\n",
       "      <td>0.000000</td>\n",
       "      <td>0.000000</td>\n",
       "      <td>0.020000</td>\n",
       "      <td>0.000000</td>\n",
       "      <td>...</td>\n",
       "      <td>5.000000</td>\n",
       "      <td>0.000000</td>\n",
       "      <td>1.000000</td>\n",
       "      <td>0.015630</td>\n",
       "      <td>0.000000</td>\n",
       "      <td>0.031100</td>\n",
       "      <td>0.007812</td>\n",
       "      <td>-0.050000</td>\n",
       "      <td>-0.050000</td>\n",
       "      <td>0.000000</td>\n",
       "    </tr>\n",
       "    <tr>\n",
       "      <th>75%</th>\n",
       "      <td>2.750000</td>\n",
       "      <td>0.003000</td>\n",
       "      <td>0.140000</td>\n",
       "      <td>0.390000</td>\n",
       "      <td>0.310000</td>\n",
       "      <td>29.000000</td>\n",
       "      <td>0.015000</td>\n",
       "      <td>1.750000</td>\n",
       "      <td>0.340000</td>\n",
       "      <td>0.040000</td>\n",
       "      <td>...</td>\n",
       "      <td>48.000000</td>\n",
       "      <td>4.500000</td>\n",
       "      <td>8.531250</td>\n",
       "      <td>0.273438</td>\n",
       "      <td>0.046875</td>\n",
       "      <td>0.437500</td>\n",
       "      <td>0.164062</td>\n",
       "      <td>0.200000</td>\n",
       "      <td>0.200000</td>\n",
       "      <td>3.000000</td>\n",
       "    </tr>\n",
       "    <tr>\n",
       "      <th>max</th>\n",
       "      <td>35.550000</td>\n",
       "      <td>0.033500</td>\n",
       "      <td>1.110000</td>\n",
       "      <td>8.770000</td>\n",
       "      <td>3.040000</td>\n",
       "      <td>341.500000</td>\n",
       "      <td>0.424000</td>\n",
       "      <td>40.000000</td>\n",
       "      <td>9.780000</td>\n",
       "      <td>1.180000</td>\n",
       "      <td>...</td>\n",
       "      <td>546.000000</td>\n",
       "      <td>70.000000</td>\n",
       "      <td>147.250000</td>\n",
       "      <td>4.390625</td>\n",
       "      <td>0.914062</td>\n",
       "      <td>12.687500</td>\n",
       "      <td>2.312500</td>\n",
       "      <td>12.150000</td>\n",
       "      <td>12.890000</td>\n",
       "      <td>90.000000</td>\n",
       "    </tr>\n",
       "  </tbody>\n",
       "</table>\n",
       "<p>8 rows × 38 columns</p>\n",
       "</div>"
      ],
      "text/plain": [
       "               AEX          AUD         BOBL          BTP         BUND  \\\n",
       "count  2741.000000  8163.000000  3139.000000  2634.000000  3458.000000   \n",
       "mean      0.150224     0.000063     0.013554     0.032584     0.026951   \n",
       "std       5.005429     0.005517     0.235026     0.740141     0.504951   \n",
       "min     -53.250000    -0.073400    -1.340000    -7.460000    -3.050000   \n",
       "25%      -2.050000    -0.002600    -0.100000    -0.290000    -0.240000   \n",
       "50%       0.300000     0.000200     0.010000     0.040000     0.020000   \n",
       "75%       2.750000     0.003000     0.140000     0.390000     0.310000   \n",
       "max      35.550000     0.033500     1.110000     8.770000     3.040000   \n",
       "\n",
       "               CAC       COPPER          CORN      CRUDE_W      EDOLLAR  ...  \\\n",
       "count  2828.000000  6090.000000  11826.000000  7565.000000  8939.000000  ...   \n",
       "mean      1.249646     0.000113     -0.027123     0.003685     0.003071  ...   \n",
       "std      57.042019     0.039928      5.036722     0.961487     0.075646  ...   \n",
       "min    -595.500000    -0.275500    -40.000000   -10.090000    -0.760000  ...   \n",
       "25%     -24.000000    -0.013500     -2.000000    -0.280000    -0.035000  ...   \n",
       "50%       3.500000     0.000000      0.000000     0.020000     0.000000  ...   \n",
       "75%      29.000000     0.015000      1.750000     0.340000     0.040000  ...   \n",
       "max     341.500000     0.424000     40.000000     9.780000     1.180000  ...   \n",
       "\n",
       "               SMI      SOYBEAN        SP500         US10          US2  \\\n",
       "count  1447.000000  9050.000000  5564.000000  9258.000000  4899.000000   \n",
       "mean      3.320923     0.101288     0.373266     0.020400     0.005495   \n",
       "std      93.975442    10.728761    17.752696     0.436985     0.100209   \n",
       "min   -1138.000000   -74.250000  -250.500000    -2.843750    -0.992188   \n",
       "25%     -38.000000    -4.250000    -7.000000    -0.218750    -0.039062   \n",
       "50%       5.000000     0.000000     1.000000     0.015630     0.000000   \n",
       "75%      48.000000     4.500000     8.531250     0.273438     0.046875   \n",
       "max     546.000000    70.000000   147.250000     4.390625     0.914062   \n",
       "\n",
       "               US20          US5          V2X          VIX         WHEAT  \n",
       "count  10304.000000  7622.000000  1903.000000  3529.000000  11802.000000  \n",
       "mean       0.021866     0.013564    -0.008644    -0.013807     -0.037254  \n",
       "std        0.750395     0.271751     0.736373     0.789690      7.941855  \n",
       "min       -7.375000    -2.171875    -7.400000   -14.550000    -90.000000  \n",
       "25%       -0.375000    -0.132812    -0.300000    -0.300000     -3.250000  \n",
       "50%        0.031100     0.007812    -0.050000    -0.050000      0.000000  \n",
       "75%        0.437500     0.164062     0.200000     0.200000      3.000000  \n",
       "max       12.687500     2.312500    12.150000    12.890000     90.000000  \n",
       "\n",
       "[8 rows x 38 columns]"
      ]
     },
     "execution_count": 151,
     "metadata": {},
     "output_type": "execute_result"
    }
   ],
   "source": [
    "df.diff().describe()"
   ]
  },
  {
   "cell_type": "code",
   "execution_count": 191,
   "metadata": {
    "code_folding": []
   },
   "outputs": [],
   "source": [
    "tgt_vol = 1\n",
    "\n",
    "tst = df['BUND'].diff()\n",
    "pos = 1\n",
    "trail = tst.ewm(span=25).std()\n",
    "\n",
    "out = pos*tst*tgt_vol/trail\n"
   ]
  },
  {
   "cell_type": "code",
   "execution_count": 198,
   "metadata": {},
   "outputs": [],
   "source": [
    "out = pd.DataFrame(out)"
   ]
  },
  {
   "cell_type": "code",
   "execution_count": 214,
   "metadata": {},
   "outputs": [],
   "source": [
    "out['sharpe'] = out.rolling(252,min_periods=1).mean()*np.sqrt(252)/out.rolling(252,min_periods=1).std()"
   ]
  },
  {
   "cell_type": "code",
   "execution_count": 220,
   "metadata": {},
   "outputs": [
    {
     "data": {
      "text/plain": [
       "DATETIME\n",
       "2006-09-06   -85.825478\n",
       "2006-09-07    -9.699912\n",
       "2006-09-08    -5.977332\n",
       "2006-09-11    -7.080105\n",
       "2006-09-12    -7.305193\n",
       "                ...    \n",
       "2020-06-24     0.593846\n",
       "2020-06-25     0.662993\n",
       "2020-06-26     0.796123\n",
       "2020-06-29     0.808770\n",
       "2020-06-30     1.016201\n",
       "Freq: B, Name: sharpe, Length: 3605, dtype: float64"
      ]
     },
     "execution_count": 220,
     "metadata": {},
     "output_type": "execute_result"
    }
   ],
   "source": [
    "out.sharpe.dropna()"
   ]
  },
  {
   "cell_type": "code",
   "execution_count": 224,
   "metadata": {},
   "outputs": [
    {
     "data": {
      "text/plain": [
       "<matplotlib.axes._subplots.AxesSubplot at 0x1652db05730>"
      ]
     },
     "execution_count": 224,
     "metadata": {},
     "output_type": "execute_result"
    },
    {
     "data": {
      "image/png": "[encoded data removed]",
      "text/plain": [
       "<Figure size 432x288 with 1 Axes>"
      ]
     },
     "metadata": {
      "needs_background": "light"
     },
     "output_type": "display_data"
    }
   ],
   "source": [
    "out.sharpe.dropna()[252:].plot()"
   ]
  },
  {
   "cell_type": "code",
   "execution_count": null,
   "metadata": {},
   "outputs": [],
   "source": []
  }
 ],
 "metadata": {
  "kernelspec": {
   "display_name": "Python 3",
   "language": "python",
   "name": "python3"
  },
  "language_info": {
   "codemirror_mode": {
    "name": "ipython",
    "version": 3
   },
   "file_extension": ".py",
   "mimetype": "text/x-python",
   "name": "python",
   "nbconvert_exporter": "python",
   "pygments_lexer": "ipython3",
   "version": "3.8.3"
  },
  "varInspector": {
   "cols": {
    "lenName": 16,
    "lenType": 16,
    "lenVar": 40
   },
   "kernels_config": {
    "python": {
     "delete_cmd_postfix": "",
     "delete_cmd_prefix": "del ",
     "library": "var_list.py",
     "varRefreshCmd": "print(var_dic_list())"
    },
    "r": {
     "delete_cmd_postfix": ") ",
     "delete_cmd_prefix": "rm(",
     "library": "var_list.r",
     "varRefreshCmd": "cat(var_dic_list()) "
    }
   },
   "types_to_exclude": [
    "module",
    "function",
    "builtin_function_or_method",
    "instance",
    "_Feature"
   ],
   "window_display": false
  }
 },
 "nbformat": 4,
 "nbformat_minor": 4
}
