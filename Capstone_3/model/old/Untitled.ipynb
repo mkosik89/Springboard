{
 "cells": [
  {
   "cell_type": "code",
   "execution_count": 1,
   "metadata": {},
   "outputs": [],
   "source": [
    "import pandas as pd\n",
    "import numpy as np"
   ]
  },
  {
   "cell_type": "code",
   "execution_count": 16,
   "metadata": {},
   "outputs": [],
   "source": [
    "s = np.random.normal(10,2,size=15)"
   ]
  },
  {
   "cell_type": "code",
   "execution_count": 19,
   "metadata": {},
   "outputs": [],
   "source": [
    "df = pd.DataFrame({'S':s})"
   ]
  },
  {
   "cell_type": "code",
   "execution_count": 24,
   "metadata": {},
   "outputs": [],
   "source": [
    "df['lr'] = np.log(df.S/df.S.shift())\n",
    "df['ar'] = (df.S - df.S.shift())/df.S.shift()"
   ]
  },
  {
   "cell_type": "code",
   "execution_count": 25,
   "metadata": {},
   "outputs": [
    {
     "data": {
      "text/html": [
       "<div>\n",
       "<style scoped>\n",
       "    .dataframe tbody tr th:only-of-type {\n",
       "        vertical-align: middle;\n",
       "    }\n",
       "\n",
       "    .dataframe tbody tr th {\n",
       "        vertical-align: top;\n",
       "    }\n",
       "\n",
       "    .dataframe thead th {\n",
       "        text-align: right;\n",
       "    }\n",
       "</style>\n",
       "<table border=\"1\" class=\"dataframe\">\n",
       "  <thead>\n",
       "    <tr style=\"text-align: right;\">\n",
       "      <th></th>\n",
       "      <th>S</th>\n",
       "      <th>lr</th>\n",
       "      <th>ar</th>\n",
       "    </tr>\n",
       "  </thead>\n",
       "  <tbody>\n",
       "    <tr>\n",
       "      <th>0</th>\n",
       "      <td>11.383181</td>\n",
       "      <td>NaN</td>\n",
       "      <td>NaN</td>\n",
       "    </tr>\n",
       "    <tr>\n",
       "      <th>1</th>\n",
       "      <td>9.306432</td>\n",
       "      <td>-0.201431</td>\n",
       "      <td>-0.182440</td>\n",
       "    </tr>\n",
       "    <tr>\n",
       "      <th>2</th>\n",
       "      <td>8.014422</td>\n",
       "      <td>-0.149463</td>\n",
       "      <td>-0.138830</td>\n",
       "    </tr>\n",
       "    <tr>\n",
       "      <th>3</th>\n",
       "      <td>9.046414</td>\n",
       "      <td>0.121126</td>\n",
       "      <td>0.128767</td>\n",
       "    </tr>\n",
       "    <tr>\n",
       "      <th>4</th>\n",
       "      <td>9.602301</td>\n",
       "      <td>0.059634</td>\n",
       "      <td>0.061448</td>\n",
       "    </tr>\n",
       "    <tr>\n",
       "      <th>5</th>\n",
       "      <td>11.317541</td>\n",
       "      <td>0.164351</td>\n",
       "      <td>0.178628</td>\n",
       "    </tr>\n",
       "    <tr>\n",
       "      <th>6</th>\n",
       "      <td>8.507444</td>\n",
       "      <td>-0.285412</td>\n",
       "      <td>-0.248296</td>\n",
       "    </tr>\n",
       "    <tr>\n",
       "      <th>7</th>\n",
       "      <td>12.137050</td>\n",
       "      <td>0.355321</td>\n",
       "      <td>0.426639</td>\n",
       "    </tr>\n",
       "    <tr>\n",
       "      <th>8</th>\n",
       "      <td>11.243323</td>\n",
       "      <td>-0.076488</td>\n",
       "      <td>-0.073636</td>\n",
       "    </tr>\n",
       "    <tr>\n",
       "      <th>9</th>\n",
       "      <td>11.871879</td>\n",
       "      <td>0.054398</td>\n",
       "      <td>0.055905</td>\n",
       "    </tr>\n",
       "    <tr>\n",
       "      <th>10</th>\n",
       "      <td>9.546304</td>\n",
       "      <td>-0.218018</td>\n",
       "      <td>-0.195889</td>\n",
       "    </tr>\n",
       "    <tr>\n",
       "      <th>11</th>\n",
       "      <td>8.076575</td>\n",
       "      <td>-0.167186</td>\n",
       "      <td>-0.153958</td>\n",
       "    </tr>\n",
       "    <tr>\n",
       "      <th>12</th>\n",
       "      <td>13.535706</td>\n",
       "      <td>0.516363</td>\n",
       "      <td>0.675922</td>\n",
       "    </tr>\n",
       "    <tr>\n",
       "      <th>13</th>\n",
       "      <td>14.377117</td>\n",
       "      <td>0.060307</td>\n",
       "      <td>0.062162</td>\n",
       "    </tr>\n",
       "    <tr>\n",
       "      <th>14</th>\n",
       "      <td>12.025101</td>\n",
       "      <td>-0.178642</td>\n",
       "      <td>-0.163594</td>\n",
       "    </tr>\n",
       "  </tbody>\n",
       "</table>\n",
       "</div>"
      ],
      "text/plain": [
       "            S        lr        ar\n",
       "0   11.383181       NaN       NaN\n",
       "1    9.306432 -0.201431 -0.182440\n",
       "2    8.014422 -0.149463 -0.138830\n",
       "3    9.046414  0.121126  0.128767\n",
       "4    9.602301  0.059634  0.061448\n",
       "5   11.317541  0.164351  0.178628\n",
       "6    8.507444 -0.285412 -0.248296\n",
       "7   12.137050  0.355321  0.426639\n",
       "8   11.243323 -0.076488 -0.073636\n",
       "9   11.871879  0.054398  0.055905\n",
       "10   9.546304 -0.218018 -0.195889\n",
       "11   8.076575 -0.167186 -0.153958\n",
       "12  13.535706  0.516363  0.675922\n",
       "13  14.377117  0.060307  0.062162\n",
       "14  12.025101 -0.178642 -0.163594"
      ]
     },
     "execution_count": 25,
     "metadata": {},
     "output_type": "execute_result"
    }
   ],
   "source": [
    "df"
   ]
  },
  {
   "cell_type": "code",
   "execution_count": 41,
   "metadata": {
    "scrolled": true
   },
   "outputs": [
    {
     "name": "stdout",
     "output_type": "stream",
     "text": [
      "0.056392014262185056\n",
      "1.056392014262185\n",
      "1.0563920142621852\n"
     ]
    }
   ],
   "source": [
    "print((df.iloc[-1,0] - df.iloc[0,0])/df.iloc[0,0])\n",
    "print((1+df.ar).cumprod().iloc[-1])\n",
    "print(np.exp(df.lr.cumsum().iloc[-1]))"
   ]
  },
  {
   "cell_type": "code",
   "execution_count": null,
   "metadata": {},
   "outputs": [],
   "source": []
  }
 ],
 "metadata": {
  "kernelspec": {
   "display_name": "Python 3",
   "language": "python",
   "name": "python3"
  },
  "language_info": {
   "codemirror_mode": {
    "name": "ipython",
    "version": 3
   },
   "file_extension": ".py",
   "mimetype": "text/x-python",
   "name": "python",
   "nbconvert_exporter": "python",
   "pygments_lexer": "ipython3",
   "version": "3.8.3"
  },
  "varInspector": {
   "cols": {
    "lenName": 16,
    "lenType": 16,
    "lenVar": 40
   },
   "kernels_config": {
    "python": {
     "delete_cmd_postfix": "",
     "delete_cmd_prefix": "del ",
     "library": "var_list.py",
     "varRefreshCmd": "print(var_dic_list())"
    },
    "r": {
     "delete_cmd_postfix": ") ",
     "delete_cmd_prefix": "rm(",
     "library": "var_list.r",
     "varRefreshCmd": "cat(var_dic_list()) "
    }
   },
   "types_to_exclude": [
    "module",
    "function",
    "builtin_function_or_method",
    "instance",
    "_Feature"
   ],
   "window_display": false
  }
 },
 "nbformat": 4,
 "nbformat_minor": 4
}
