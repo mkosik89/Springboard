{
 "cells": [
  {
   "cell_type": "code",
   "execution_count": 1,
   "metadata": {},
   "outputs": [],
   "source": [
    "import pandas as pd\n",
    "import numpy as np\n",
    "import matplotlib.pyplot as plt\n",
    "import seaborn as sns\n",
    "\n",
    "from sklearn.preprocessing import StandardScaler\n",
    "\n",
    "%matplotlib inline"
   ]
  },
  {
   "cell_type": "code",
   "execution_count": 2,
   "metadata": {},
   "outputs": [],
   "source": [
    "df_feat = pd.read_csv(\"raw_features.csv\",index_col=0,parse_dates=True)\n",
    "returns = pd.read_csv(\"raw_response.csv\",index_col=0,parse_dates=True)\n",
    "df_feat.dropna(inplace=True)"
   ]
  },
  {
   "cell_type": "code",
   "execution_count": 3,
   "metadata": {},
   "outputs": [
    {
     "data": {
      "text/html": [
       "<div>\n",
       "<style scoped>\n",
       "    .dataframe tbody tr th:only-of-type {\n",
       "        vertical-align: middle;\n",
       "    }\n",
       "\n",
       "    .dataframe tbody tr th {\n",
       "        vertical-align: top;\n",
       "    }\n",
       "\n",
       "    .dataframe thead th {\n",
       "        text-align: right;\n",
       "    }\n",
       "</style>\n",
       "<table border=\"1\" class=\"dataframe\">\n",
       "  <thead>\n",
       "    <tr style=\"text-align: right;\">\n",
       "      <th></th>\n",
       "      <th>3M_Rate</th>\n",
       "      <th>10Y_2Y_Curve</th>\n",
       "      <th>5y5y_Forward</th>\n",
       "      <th>Core_PCE</th>\n",
       "      <th>NFP</th>\n",
       "      <th>UnEmp</th>\n",
       "      <th>Hstarts</th>\n",
       "      <th>IP</th>\n",
       "      <th>ISM</th>\n",
       "      <th>Mich_Sent</th>\n",
       "      <th>Mich_Inf</th>\n",
       "      <th>CPI</th>\n",
       "    </tr>\n",
       "  </thead>\n",
       "  <tbody>\n",
       "    <tr>\n",
       "      <th>1978-02-01</th>\n",
       "      <td>6.45</td>\n",
       "      <td>0.468333</td>\n",
       "      <td>8.234444</td>\n",
       "      <td>0.003835</td>\n",
       "      <td>354.0</td>\n",
       "      <td>6.3</td>\n",
       "      <td>1738.0</td>\n",
       "      <td>0.004951</td>\n",
       "      <td>55.9</td>\n",
       "      <td>84.3</td>\n",
       "      <td>6.4</td>\n",
       "      <td>0.004754</td>\n",
       "    </tr>\n",
       "    <tr>\n",
       "      <th>1978-03-01</th>\n",
       "      <td>6.29</td>\n",
       "      <td>0.460909</td>\n",
       "      <td>8.214091</td>\n",
       "      <td>0.005407</td>\n",
       "      <td>512.0</td>\n",
       "      <td>6.3</td>\n",
       "      <td>2032.0</td>\n",
       "      <td>0.019062</td>\n",
       "      <td>55.0</td>\n",
       "      <td>78.8</td>\n",
       "      <td>6.3</td>\n",
       "      <td>0.006309</td>\n",
       "    </tr>\n",
       "    <tr>\n",
       "      <th>1978-04-01</th>\n",
       "      <td>6.29</td>\n",
       "      <td>0.410500</td>\n",
       "      <td>8.325500</td>\n",
       "      <td>0.006489</td>\n",
       "      <td>702.0</td>\n",
       "      <td>6.1</td>\n",
       "      <td>2197.0</td>\n",
       "      <td>0.020717</td>\n",
       "      <td>57.7</td>\n",
       "      <td>81.6</td>\n",
       "      <td>6.7</td>\n",
       "      <td>0.007837</td>\n",
       "    </tr>\n",
       "    <tr>\n",
       "      <th>1978-05-01</th>\n",
       "      <td>6.41</td>\n",
       "      <td>0.339524</td>\n",
       "      <td>8.515714</td>\n",
       "      <td>0.005866</td>\n",
       "      <td>347.0</td>\n",
       "      <td>6.0</td>\n",
       "      <td>2075.0</td>\n",
       "      <td>0.003709</td>\n",
       "      <td>60.2</td>\n",
       "      <td>82.9</td>\n",
       "      <td>6.9</td>\n",
       "      <td>0.006221</td>\n",
       "    </tr>\n",
       "    <tr>\n",
       "      <th>1978-06-01</th>\n",
       "      <td>6.73</td>\n",
       "      <td>0.222727</td>\n",
       "      <td>8.569545</td>\n",
       "      <td>0.005601</td>\n",
       "      <td>441.0</td>\n",
       "      <td>5.9</td>\n",
       "      <td>2070.0</td>\n",
       "      <td>0.006890</td>\n",
       "      <td>60.5</td>\n",
       "      <td>80.0</td>\n",
       "      <td>6.5</td>\n",
       "      <td>0.007728</td>\n",
       "    </tr>\n",
       "  </tbody>\n",
       "</table>\n",
       "</div>"
      ],
      "text/plain": [
       "            3M_Rate  10Y_2Y_Curve  5y5y_Forward  Core_PCE    NFP  UnEmp  \\\n",
       "1978-02-01     6.45      0.468333      8.234444  0.003835  354.0    6.3   \n",
       "1978-03-01     6.29      0.460909      8.214091  0.005407  512.0    6.3   \n",
       "1978-04-01     6.29      0.410500      8.325500  0.006489  702.0    6.1   \n",
       "1978-05-01     6.41      0.339524      8.515714  0.005866  347.0    6.0   \n",
       "1978-06-01     6.73      0.222727      8.569545  0.005601  441.0    5.9   \n",
       "\n",
       "            Hstarts        IP   ISM  Mich_Sent  Mich_Inf       CPI  \n",
       "1978-02-01   1738.0  0.004951  55.9       84.3       6.4  0.004754  \n",
       "1978-03-01   2032.0  0.019062  55.0       78.8       6.3  0.006309  \n",
       "1978-04-01   2197.0  0.020717  57.7       81.6       6.7  0.007837  \n",
       "1978-05-01   2075.0  0.003709  60.2       82.9       6.9  0.006221  \n",
       "1978-06-01   2070.0  0.006890  60.5       80.0       6.5  0.007728  "
      ]
     },
     "execution_count": 3,
     "metadata": {},
     "output_type": "execute_result"
    }
   ],
   "source": [
    "df_feat.head()"
   ]
  },
  {
   "cell_type": "code",
   "execution_count": 4,
   "metadata": {},
   "outputs": [],
   "source": [
    "scaler = StandardScaler()\n",
    "X_scaled = pd.DataFrame(scaler.fit_transform(df_feat.dropna()),columns=df_feat.columns,index=df_feat.index)"
   ]
  },
  {
   "cell_type": "code",
   "execution_count": 5,
   "metadata": {},
   "outputs": [
    {
     "data": {
      "text/html": [
       "<div>\n",
       "<style scoped>\n",
       "    .dataframe tbody tr th:only-of-type {\n",
       "        vertical-align: middle;\n",
       "    }\n",
       "\n",
       "    .dataframe tbody tr th {\n",
       "        vertical-align: top;\n",
       "    }\n",
       "\n",
       "    .dataframe thead th {\n",
       "        text-align: right;\n",
       "    }\n",
       "</style>\n",
       "<table border=\"1\" class=\"dataframe\">\n",
       "  <thead>\n",
       "    <tr style=\"text-align: right;\">\n",
       "      <th></th>\n",
       "      <th>3M_Rate</th>\n",
       "      <th>10Y_2Y_Curve</th>\n",
       "      <th>5y5y_Forward</th>\n",
       "      <th>Core_PCE</th>\n",
       "      <th>NFP</th>\n",
       "      <th>UnEmp</th>\n",
       "      <th>Hstarts</th>\n",
       "      <th>IP</th>\n",
       "      <th>ISM</th>\n",
       "      <th>Mich_Sent</th>\n",
       "      <th>Mich_Inf</th>\n",
       "      <th>CPI</th>\n",
       "    </tr>\n",
       "  </thead>\n",
       "  <tbody>\n",
       "    <tr>\n",
       "      <th>1978-02-01</th>\n",
       "      <td>0.555637</td>\n",
       "      <td>-0.499796</td>\n",
       "      <td>0.532721</td>\n",
       "      <td>0.765086</td>\n",
       "      <td>1.063039</td>\n",
       "      <td>0.068706</td>\n",
       "      <td>0.916719</td>\n",
       "      <td>0.499056</td>\n",
       "      <td>0.664469</td>\n",
       "      <td>-0.159568</td>\n",
       "      <td>1.693653</td>\n",
       "      <td>0.807151</td>\n",
       "    </tr>\n",
       "    <tr>\n",
       "      <th>1978-03-01</th>\n",
       "      <td>0.511437</td>\n",
       "      <td>-0.507789</td>\n",
       "      <td>0.526084</td>\n",
       "      <td>1.597774</td>\n",
       "      <td>1.826509</td>\n",
       "      <td>0.068706</td>\n",
       "      <td>1.656980</td>\n",
       "      <td>2.611369</td>\n",
       "      <td>0.509303</td>\n",
       "      <td>-0.594790</td>\n",
       "      <td>1.633996</td>\n",
       "      <td>1.471704</td>\n",
       "    </tr>\n",
       "    <tr>\n",
       "      <th>1978-04-01</th>\n",
       "      <td>0.511437</td>\n",
       "      <td>-0.562055</td>\n",
       "      <td>0.562413</td>\n",
       "      <td>2.170618</td>\n",
       "      <td>2.744605</td>\n",
       "      <td>-0.052767</td>\n",
       "      <td>2.072433</td>\n",
       "      <td>2.859206</td>\n",
       "      <td>0.974801</td>\n",
       "      <td>-0.373223</td>\n",
       "      <td>1.872626</td>\n",
       "      <td>2.124739</td>\n",
       "    </tr>\n",
       "    <tr>\n",
       "      <th>1978-05-01</th>\n",
       "      <td>0.544587</td>\n",
       "      <td>-0.638463</td>\n",
       "      <td>0.624438</td>\n",
       "      <td>1.840855</td>\n",
       "      <td>1.029215</td>\n",
       "      <td>-0.113504</td>\n",
       "      <td>1.765250</td>\n",
       "      <td>0.313266</td>\n",
       "      <td>1.405818</td>\n",
       "      <td>-0.270352</td>\n",
       "      <td>1.991940</td>\n",
       "      <td>1.433959</td>\n",
       "    </tr>\n",
       "    <tr>\n",
       "      <th>1978-06-01</th>\n",
       "      <td>0.632987</td>\n",
       "      <td>-0.764198</td>\n",
       "      <td>0.641992</td>\n",
       "      <td>1.700411</td>\n",
       "      <td>1.483431</td>\n",
       "      <td>-0.174241</td>\n",
       "      <td>1.752660</td>\n",
       "      <td>0.789335</td>\n",
       "      <td>1.457540</td>\n",
       "      <td>-0.499833</td>\n",
       "      <td>1.753311</td>\n",
       "      <td>2.078143</td>\n",
       "    </tr>\n",
       "    <tr>\n",
       "      <th>...</th>\n",
       "      <td>...</td>\n",
       "      <td>...</td>\n",
       "      <td>...</td>\n",
       "      <td>...</td>\n",
       "      <td>...</td>\n",
       "      <td>...</td>\n",
       "      <td>...</td>\n",
       "      <td>...</td>\n",
       "      <td>...</td>\n",
       "      <td>...</td>\n",
       "      <td>...</td>\n",
       "      <td>...</td>\n",
       "    </tr>\n",
       "    <tr>\n",
       "      <th>2019-08-01</th>\n",
       "      <td>-0.687490</td>\n",
       "      <td>-0.944761</td>\n",
       "      <td>-1.576554</td>\n",
       "      <td>-0.560618</td>\n",
       "      <td>0.352723</td>\n",
       "      <td>-1.510448</td>\n",
       "      <td>0.007759</td>\n",
       "      <td>0.813394</td>\n",
       "      <td>-0.559620</td>\n",
       "      <td>0.275654</td>\n",
       "      <td>-0.513670</td>\n",
       "      <td>-0.263383</td>\n",
       "    </tr>\n",
       "    <tr>\n",
       "      <th>2019-09-01</th>\n",
       "      <td>-0.704065</td>\n",
       "      <td>-0.948528</td>\n",
       "      <td>-1.554350</td>\n",
       "      <td>-0.991771</td>\n",
       "      <td>0.357555</td>\n",
       "      <td>-1.631921</td>\n",
       "      <td>-0.251584</td>\n",
       "      <td>-0.762260</td>\n",
       "      <td>-0.663064</td>\n",
       "      <td>0.544700</td>\n",
       "      <td>-0.454013</td>\n",
       "      <td>-0.412773</td>\n",
       "    </tr>\n",
       "    <tr>\n",
       "      <th>2019-10-01</th>\n",
       "      <td>-0.770365</td>\n",
       "      <td>-0.836619</td>\n",
       "      <td>-1.536535</td>\n",
       "      <td>-0.594997</td>\n",
       "      <td>0.246417</td>\n",
       "      <td>-1.571184</td>\n",
       "      <td>-0.085403</td>\n",
       "      <td>-0.851178</td>\n",
       "      <td>-0.611342</td>\n",
       "      <td>0.726702</td>\n",
       "      <td>-0.632985</td>\n",
       "      <td>-0.732440</td>\n",
       "    </tr>\n",
       "    <tr>\n",
       "      <th>2019-11-01</th>\n",
       "      <td>-0.800753</td>\n",
       "      <td>-0.789231</td>\n",
       "      <td>-1.505198</td>\n",
       "      <td>-0.978102</td>\n",
       "      <td>0.613656</td>\n",
       "      <td>-1.631921</td>\n",
       "      <td>-0.007348</td>\n",
       "      <td>1.147180</td>\n",
       "      <td>-0.680304</td>\n",
       "      <td>0.829573</td>\n",
       "      <td>-0.632985</td>\n",
       "      <td>-0.395890</td>\n",
       "    </tr>\n",
       "    <tr>\n",
       "      <th>2019-12-01</th>\n",
       "      <td>-0.800753</td>\n",
       "      <td>-0.735350</td>\n",
       "      <td>-1.486091</td>\n",
       "      <td>-0.030214</td>\n",
       "      <td>0.241585</td>\n",
       "      <td>-1.631921</td>\n",
       "      <td>0.536517</td>\n",
       "      <td>-0.767237</td>\n",
       "      <td>-0.732026</td>\n",
       "      <td>1.027401</td>\n",
       "      <td>-0.752300</td>\n",
       "      <td>-0.692102</td>\n",
       "    </tr>\n",
       "  </tbody>\n",
       "</table>\n",
       "<p>503 rows × 12 columns</p>\n",
       "</div>"
      ],
      "text/plain": [
       "             3M_Rate  10Y_2Y_Curve  5y5y_Forward  Core_PCE       NFP  \\\n",
       "1978-02-01  0.555637     -0.499796      0.532721  0.765086  1.063039   \n",
       "1978-03-01  0.511437     -0.507789      0.526084  1.597774  1.826509   \n",
       "1978-04-01  0.511437     -0.562055      0.562413  2.170618  2.744605   \n",
       "1978-05-01  0.544587     -0.638463      0.624438  1.840855  1.029215   \n",
       "1978-06-01  0.632987     -0.764198      0.641992  1.700411  1.483431   \n",
       "...              ...           ...           ...       ...       ...   \n",
       "2019-08-01 -0.687490     -0.944761     -1.576554 -0.560618  0.352723   \n",
       "2019-09-01 -0.704065     -0.948528     -1.554350 -0.991771  0.357555   \n",
       "2019-10-01 -0.770365     -0.836619     -1.536535 -0.594997  0.246417   \n",
       "2019-11-01 -0.800753     -0.789231     -1.505198 -0.978102  0.613656   \n",
       "2019-12-01 -0.800753     -0.735350     -1.486091 -0.030214  0.241585   \n",
       "\n",
       "               UnEmp   Hstarts        IP       ISM  Mich_Sent  Mich_Inf  \\\n",
       "1978-02-01  0.068706  0.916719  0.499056  0.664469  -0.159568  1.693653   \n",
       "1978-03-01  0.068706  1.656980  2.611369  0.509303  -0.594790  1.633996   \n",
       "1978-04-01 -0.052767  2.072433  2.859206  0.974801  -0.373223  1.872626   \n",
       "1978-05-01 -0.113504  1.765250  0.313266  1.405818  -0.270352  1.991940   \n",
       "1978-06-01 -0.174241  1.752660  0.789335  1.457540  -0.499833  1.753311   \n",
       "...              ...       ...       ...       ...        ...       ...   \n",
       "2019-08-01 -1.510448  0.007759  0.813394 -0.559620   0.275654 -0.513670   \n",
       "2019-09-01 -1.631921 -0.251584 -0.762260 -0.663064   0.544700 -0.454013   \n",
       "2019-10-01 -1.571184 -0.085403 -0.851178 -0.611342   0.726702 -0.632985   \n",
       "2019-11-01 -1.631921 -0.007348  1.147180 -0.680304   0.829573 -0.632985   \n",
       "2019-12-01 -1.631921  0.536517 -0.767237 -0.732026   1.027401 -0.752300   \n",
       "\n",
       "                 CPI  \n",
       "1978-02-01  0.807151  \n",
       "1978-03-01  1.471704  \n",
       "1978-04-01  2.124739  \n",
       "1978-05-01  1.433959  \n",
       "1978-06-01  2.078143  \n",
       "...              ...  \n",
       "2019-08-01 -0.263383  \n",
       "2019-09-01 -0.412773  \n",
       "2019-10-01 -0.732440  \n",
       "2019-11-01 -0.395890  \n",
       "2019-12-01 -0.692102  \n",
       "\n",
       "[503 rows x 12 columns]"
      ]
     },
     "execution_count": 5,
     "metadata": {},
     "output_type": "execute_result"
    }
   ],
   "source": [
    "X_scaled"
   ]
  },
  {
   "cell_type": "code",
   "execution_count": 6,
   "metadata": {},
   "outputs": [],
   "source": [
    "#build Z-score function to normalize current change to custom historical period\n",
    "def z_score(x):\n",
    "    x = np.array(x)\n",
    "    z = (x[-1] - x.mean())/x.std()\n",
    "    return z"
   ]
  },
  {
   "cell_type": "code",
   "execution_count": 7,
   "metadata": {},
   "outputs": [],
   "source": [
    "df2 = X_scaled.rolling(36).apply(z_score)"
   ]
  },
  {
   "cell_type": "code",
   "execution_count": 8,
   "metadata": {},
   "outputs": [],
   "source": [
    "df3 = df2.dropna().copy()\n",
    "df3 = df3-df3.shift(1)"
   ]
  },
  {
   "cell_type": "code",
   "execution_count": 9,
   "metadata": {},
   "outputs": [],
   "source": [
    "df_all = X_scaled.join(df2,rsuffix='_36mZ').dropna()\n",
    "df_all = df_all.join(df3,rsuffix='_changeZ').dropna()"
   ]
  },
  {
   "cell_type": "code",
   "execution_count": 12,
   "metadata": {},
   "outputs": [
    {
     "data": {
      "text/plain": [
       "<seaborn.matrix.ClusterGrid at 0x1eaa2cf56d8>"
      ]
     },
     "execution_count": 12,
     "metadata": {},
     "output_type": "execute_result"
    },
    {
     "data": {
      "image/png": "[encoded data removed]",
      "text/plain": [
       "<Figure size 720x720 with 4 Axes>"
      ]
     },
     "metadata": {
      "needs_background": "light"
     },
     "output_type": "display_data"
    }
   ],
   "source": [
    "sns.clustermap(df2.dropna().corr(),cmap='coolwarm')"
   ]
  },
  {
   "cell_type": "code",
   "execution_count": 16,
   "metadata": {},
   "outputs": [
    {
     "data": {
      "text/plain": [
       "(467, 36)"
      ]
     },
     "execution_count": 16,
     "metadata": {},
     "output_type": "execute_result"
    }
   ],
   "source": [
    "df_all.shape"
   ]
  },
  {
   "cell_type": "code",
   "execution_count": 26,
   "metadata": {},
   "outputs": [],
   "source": [
    "returns = returns[df_all.index[0]:]"
   ]
  },
  {
   "cell_type": "code",
   "execution_count": null,
   "metadata": {},
   "outputs": [],
   "source": []
  },
  {
   "cell_type": "code",
   "execution_count": 27,
   "metadata": {},
   "outputs": [],
   "source": [
    "df_feat_train = df_all.loc[:'2005',:]\n",
    "df_feat_test = df_all.loc['2006':,:]\n",
    "\n",
    "returns_train = returns.loc[:'2005',:]\n",
    "returns_test = returns.loc['2006':,:]"
   ]
  },
  {
   "cell_type": "code",
   "execution_count": 31,
   "metadata": {},
   "outputs": [],
   "source": [
    "df_feat_train.to_csv('processed_features_train.csv')\n",
    "df_feat_test.to_csv('processed_features_test.csv')\n",
    "\n",
    "returns_train.to_csv('processed_returns_train.csv')\n",
    "returns_test.to_csv('processed_returns_test.csv')"
   ]
  },
  {
   "cell_type": "code",
   "execution_count": null,
   "metadata": {},
   "outputs": [],
   "source": []
  }
 ],
 "metadata": {
  "kernelspec": {
   "display_name": "Python 3",
   "language": "python",
   "name": "python3"
  },
  "language_info": {
   "codemirror_mode": {
    "name": "ipython",
    "version": 3
   },
   "file_extension": ".py",
   "mimetype": "text/x-python",
   "name": "python",
   "nbconvert_exporter": "python",
   "pygments_lexer": "ipython3",
   "version": "3.6.8"
  },
  "varInspector": {
   "cols": {
    "lenName": 16,
    "lenType": 16,
    "lenVar": 40
   },
   "kernels_config": {
    "python": {
     "delete_cmd_postfix": "",
     "delete_cmd_prefix": "del ",
     "library": "var_list.py",
     "varRefreshCmd": "print(var_dic_list())"
    },
    "r": {
     "delete_cmd_postfix": ") ",
     "delete_cmd_prefix": "rm(",
     "library": "var_list.r",
     "varRefreshCmd": "cat(var_dic_list()) "
    }
   },
   "types_to_exclude": [
    "module",
    "function",
    "builtin_function_or_method",
    "instance",
    "_Feature"
   ],
   "window_display": false
  }
 },
 "nbformat": 4,
 "nbformat_minor": 2
}
