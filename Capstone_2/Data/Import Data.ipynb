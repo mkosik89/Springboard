{
 "cells": [
  {
   "cell_type": "code",
   "execution_count": 1,
   "metadata": {},
   "outputs": [],
   "source": [
    "import pandas as pd\n",
    "import numpy as np\n",
    "import datetime\n",
    "import pandas_datareader.data as web\n",
    "import matplotlib.pyplot as plt\n",
    "from fredapi import Fred\n",
    "import quandl\n",
    "\n",
    "import os\n",
    "\n",
    "from scipy.stats.mstats import gmean\n",
    "\n",
    "%matplotlib inline"
   ]
  },
  {
   "cell_type": "code",
   "execution_count": 2,
   "metadata": {},
   "outputs": [],
   "source": [
    "#set quandl api key\n",
    "qd = os.environ.get('QUANDL_API_KEY')\n",
    "quandl.api_config.ApiConfig.api_key = qd"
   ]
  },
  {
   "cell_type": "code",
   "execution_count": 3,
   "metadata": {},
   "outputs": [],
   "source": [
    "# Set the start and end dates\n",
    "start_d = datetime.datetime(1978, 1, 1)\n",
    "end_d = datetime.datetime(2019, 12, 31)"
   ]
  },
  {
   "cell_type": "markdown",
   "metadata": {},
   "source": [
    "## Get the historical closing levels of the return varialbes"
   ]
  },
  {
   "cell_type": "code",
   "execution_count": 4,
   "metadata": {},
   "outputs": [],
   "source": [
    "spx = web.DataReader('^GSPC', 'yahoo', start_d, end_d).dropna()"
   ]
  },
  {
   "cell_type": "code",
   "execution_count": 5,
   "metadata": {},
   "outputs": [
    {
     "data": {
      "text/html": [
       "<div>\n",
       "<style scoped>\n",
       "    .dataframe tbody tr th:only-of-type {\n",
       "        vertical-align: middle;\n",
       "    }\n",
       "\n",
       "    .dataframe tbody tr th {\n",
       "        vertical-align: top;\n",
       "    }\n",
       "\n",
       "    .dataframe thead th {\n",
       "        text-align: right;\n",
       "    }\n",
       "</style>\n",
       "<table border=\"1\" class=\"dataframe\">\n",
       "  <thead>\n",
       "    <tr style=\"text-align: right;\">\n",
       "      <th></th>\n",
       "      <th>High</th>\n",
       "      <th>Low</th>\n",
       "      <th>Open</th>\n",
       "      <th>Close</th>\n",
       "      <th>Volume</th>\n",
       "      <th>Adj Close</th>\n",
       "    </tr>\n",
       "    <tr>\n",
       "      <th>Date</th>\n",
       "      <th></th>\n",
       "      <th></th>\n",
       "      <th></th>\n",
       "      <th></th>\n",
       "      <th></th>\n",
       "      <th></th>\n",
       "    </tr>\n",
       "  </thead>\n",
       "  <tbody>\n",
       "    <tr>\n",
       "      <th>1978-01-03</th>\n",
       "      <td>95.150002</td>\n",
       "      <td>93.489998</td>\n",
       "      <td>95.099998</td>\n",
       "      <td>93.820000</td>\n",
       "      <td>17720000</td>\n",
       "      <td>93.820000</td>\n",
       "    </tr>\n",
       "    <tr>\n",
       "      <th>1978-01-04</th>\n",
       "      <td>94.099998</td>\n",
       "      <td>92.570000</td>\n",
       "      <td>93.820000</td>\n",
       "      <td>93.519997</td>\n",
       "      <td>24090000</td>\n",
       "      <td>93.519997</td>\n",
       "    </tr>\n",
       "    <tr>\n",
       "      <th>1978-01-05</th>\n",
       "      <td>94.529999</td>\n",
       "      <td>92.510002</td>\n",
       "      <td>93.519997</td>\n",
       "      <td>92.739998</td>\n",
       "      <td>23570000</td>\n",
       "      <td>92.739998</td>\n",
       "    </tr>\n",
       "    <tr>\n",
       "      <th>1978-01-06</th>\n",
       "      <td>92.660004</td>\n",
       "      <td>91.050003</td>\n",
       "      <td>92.660004</td>\n",
       "      <td>91.620003</td>\n",
       "      <td>26150000</td>\n",
       "      <td>91.620003</td>\n",
       "    </tr>\n",
       "    <tr>\n",
       "      <th>1978-01-09</th>\n",
       "      <td>91.480003</td>\n",
       "      <td>89.970001</td>\n",
       "      <td>91.480003</td>\n",
       "      <td>90.639999</td>\n",
       "      <td>27990000</td>\n",
       "      <td>90.639999</td>\n",
       "    </tr>\n",
       "  </tbody>\n",
       "</table>\n",
       "</div>"
      ],
      "text/plain": [
       "                 High        Low       Open      Close    Volume  Adj Close\n",
       "Date                                                                       \n",
       "1978-01-03  95.150002  93.489998  95.099998  93.820000  17720000  93.820000\n",
       "1978-01-04  94.099998  92.570000  93.820000  93.519997  24090000  93.519997\n",
       "1978-01-05  94.529999  92.510002  93.519997  92.739998  23570000  92.739998\n",
       "1978-01-06  92.660004  91.050003  92.660004  91.620003  26150000  91.620003\n",
       "1978-01-09  91.480003  89.970001  91.480003  90.639999  27990000  90.639999"
      ]
     },
     "execution_count": 5,
     "metadata": {},
     "output_type": "execute_result"
    }
   ],
   "source": [
    "spx.head()"
   ]
  },
  {
   "cell_type": "code",
   "execution_count": 6,
   "metadata": {},
   "outputs": [],
   "source": [
    "fred = Fred()"
   ]
  },
  {
   "cell_type": "code",
   "execution_count": 7,
   "metadata": {},
   "outputs": [],
   "source": [
    "y10 = fred.get_series('DGS10',start_d,end_d).dropna()\n",
    "y10.name = '10y Yield'"
   ]
  },
  {
   "cell_type": "code",
   "execution_count": 8,
   "metadata": {},
   "outputs": [],
   "source": [
    "closes = spx[['Adj Close']].join(y10,how='inner')\n",
    "closes.rename(columns={'Adj Close':'SPX Price'},inplace=True)"
   ]
  },
  {
   "cell_type": "code",
   "execution_count": 9,
   "metadata": {},
   "outputs": [
    {
     "name": "stdout",
     "output_type": "stream",
     "text": [
      "<class 'pandas.core.frame.DataFrame'>\n",
      "DatetimeIndex: 10486 entries, 1978-01-03 to 2019-12-31\n",
      "Data columns (total 2 columns):\n",
      " #   Column     Non-Null Count  Dtype  \n",
      "---  ------     --------------  -----  \n",
      " 0   SPX Price  10486 non-null  float64\n",
      " 1   10y Yield  10486 non-null  float64\n",
      "dtypes: float64(2)\n",
      "memory usage: 245.8 KB\n"
     ]
    }
   ],
   "source": [
    "closes.info()"
   ]
  },
  {
   "cell_type": "code",
   "execution_count": 11,
   "metadata": {},
   "outputs": [
    {
     "data": {
      "text/html": [
       "<div>\n",
       "<style scoped>\n",
       "    .dataframe tbody tr th:only-of-type {\n",
       "        vertical-align: middle;\n",
       "    }\n",
       "\n",
       "    .dataframe tbody tr th {\n",
       "        vertical-align: top;\n",
       "    }\n",
       "\n",
       "    .dataframe thead th {\n",
       "        text-align: right;\n",
       "    }\n",
       "</style>\n",
       "<table border=\"1\" class=\"dataframe\">\n",
       "  <thead>\n",
       "    <tr style=\"text-align: right;\">\n",
       "      <th></th>\n",
       "      <th>SPX Price</th>\n",
       "      <th>10y Yield</th>\n",
       "    </tr>\n",
       "  </thead>\n",
       "  <tbody>\n",
       "    <tr>\n",
       "      <th>count</th>\n",
       "      <td>10486.000000</td>\n",
       "      <td>10486.000000</td>\n",
       "    </tr>\n",
       "    <tr>\n",
       "      <th>mean</th>\n",
       "      <td>958.014088</td>\n",
       "      <td>6.166425</td>\n",
       "    </tr>\n",
       "    <tr>\n",
       "      <th>std</th>\n",
       "      <td>751.438577</td>\n",
       "      <td>3.291188</td>\n",
       "    </tr>\n",
       "    <tr>\n",
       "      <th>min</th>\n",
       "      <td>86.900002</td>\n",
       "      <td>1.370000</td>\n",
       "    </tr>\n",
       "    <tr>\n",
       "      <th>25%</th>\n",
       "      <td>288.384987</td>\n",
       "      <td>3.490000</td>\n",
       "    </tr>\n",
       "    <tr>\n",
       "      <th>50%</th>\n",
       "      <td>923.739990</td>\n",
       "      <td>5.710000</td>\n",
       "    </tr>\n",
       "    <tr>\n",
       "      <th>75%</th>\n",
       "      <td>1352.039948</td>\n",
       "      <td>8.340000</td>\n",
       "    </tr>\n",
       "    <tr>\n",
       "      <th>max</th>\n",
       "      <td>3240.020020</td>\n",
       "      <td>15.840000</td>\n",
       "    </tr>\n",
       "  </tbody>\n",
       "</table>\n",
       "</div>"
      ],
      "text/plain": [
       "          SPX Price     10y Yield\n",
       "count  10486.000000  10486.000000\n",
       "mean     958.014088      6.166425\n",
       "std      751.438577      3.291188\n",
       "min       86.900002      1.370000\n",
       "25%      288.384987      3.490000\n",
       "50%      923.739990      5.710000\n",
       "75%     1352.039948      8.340000\n",
       "max     3240.020020     15.840000"
      ]
     },
     "execution_count": 11,
     "metadata": {},
     "output_type": "execute_result"
    }
   ],
   "source": [
    "closes.describe()"
   ]
  },
  {
   "cell_type": "markdown",
   "metadata": {},
   "source": [
    "## Convert the closing levels into daily cash return percentages\n",
    "\n",
    "Easy for stocks, more difficult for bonds\n",
    "\n",
    "We will assume bond is purchased at Par at the start of each period.\n",
    "\n",
    "Bond Return = Return from yield change + accrued interest"
   ]
  },
  {
   "cell_type": "code",
   "execution_count": 12,
   "metadata": {},
   "outputs": [],
   "source": [
    "returns = pd.DataFrame()"
   ]
  },
  {
   "cell_type": "code",
   "execution_count": 13,
   "metadata": {},
   "outputs": [],
   "source": [
    "returns['Stock_Returns'] = closes['SPX Price'].pct_change().dropna()"
   ]
  },
  {
   "cell_type": "code",
   "execution_count": 14,
   "metadata": {},
   "outputs": [],
   "source": [
    "def bond_price(par,T,ytm,coup,freq=2):\n",
    "    per = T*freq\n",
    "    price = ((1-(1+ytm/freq)**(-per))/(ytm/freq))*(coup/freq) + par*(1+ytm/freq)**(-per)\n",
    "    return price"
   ]
  },
  {
   "cell_type": "code",
   "execution_count": 15,
   "metadata": {},
   "outputs": [
    {
     "name": "stdout",
     "output_type": "stream",
     "text": [
      "1.0009027320480295\n",
      "1.0\n",
      "1.0\n"
     ]
    }
   ],
   "source": [
    "print(bond_price(1,10,.0199,.02))\n",
    "print(bond_price(1,10,.02,.02))\n",
    "print(bond_price(1,9.75,.02,.02))"
   ]
  },
  {
   "cell_type": "code",
   "execution_count": 16,
   "metadata": {},
   "outputs": [],
   "source": [
    "calc = closes[['10y Yield']]"
   ]
  },
  {
   "cell_type": "code",
   "execution_count": 17,
   "metadata": {},
   "outputs": [],
   "source": [
    "calc['t']=(closes.index.to_series().diff().dt.days/365)"
   ]
  },
  {
   "cell_type": "code",
   "execution_count": 18,
   "metadata": {},
   "outputs": [],
   "source": [
    "calc['Prev']=calc['10y Yield'].shift(1)"
   ]
  },
  {
   "cell_type": "code",
   "execution_count": 19,
   "metadata": {
    "scrolled": true
   },
   "outputs": [],
   "source": [
    "calc['Return']= calc.apply(lambda x: bond_price(1,10,x['10y Yield']/100,x['Prev']/100) - 1 + x['t']*x['Prev']/100,axis=1)"
   ]
  },
  {
   "cell_type": "code",
   "execution_count": 20,
   "metadata": {},
   "outputs": [],
   "source": [
    "calc.dropna(inplace=True)"
   ]
  },
  {
   "cell_type": "code",
   "execution_count": 21,
   "metadata": {},
   "outputs": [
    {
     "data": {
      "text/html": [
       "<div>\n",
       "<style scoped>\n",
       "    .dataframe tbody tr th:only-of-type {\n",
       "        vertical-align: middle;\n",
       "    }\n",
       "\n",
       "    .dataframe tbody tr th {\n",
       "        vertical-align: top;\n",
       "    }\n",
       "\n",
       "    .dataframe thead th {\n",
       "        text-align: right;\n",
       "    }\n",
       "</style>\n",
       "<table border=\"1\" class=\"dataframe\">\n",
       "  <thead>\n",
       "    <tr style=\"text-align: right;\">\n",
       "      <th></th>\n",
       "      <th>10y Yield</th>\n",
       "      <th>t</th>\n",
       "      <th>Prev</th>\n",
       "      <th>Return</th>\n",
       "    </tr>\n",
       "  </thead>\n",
       "  <tbody>\n",
       "    <tr>\n",
       "      <th>2019-12-13</th>\n",
       "      <td>1.82</td>\n",
       "      <td>0.002740</td>\n",
       "      <td>1.90</td>\n",
       "      <td>0.007336</td>\n",
       "    </tr>\n",
       "    <tr>\n",
       "      <th>2019-12-16</th>\n",
       "      <td>1.89</td>\n",
       "      <td>0.008219</td>\n",
       "      <td>1.82</td>\n",
       "      <td>-0.006201</td>\n",
       "    </tr>\n",
       "    <tr>\n",
       "      <th>2019-12-17</th>\n",
       "      <td>1.89</td>\n",
       "      <td>0.002740</td>\n",
       "      <td>1.89</td>\n",
       "      <td>0.000052</td>\n",
       "    </tr>\n",
       "    <tr>\n",
       "      <th>2019-12-18</th>\n",
       "      <td>1.92</td>\n",
       "      <td>0.002740</td>\n",
       "      <td>1.89</td>\n",
       "      <td>-0.002666</td>\n",
       "    </tr>\n",
       "    <tr>\n",
       "      <th>2019-12-19</th>\n",
       "      <td>1.92</td>\n",
       "      <td>0.002740</td>\n",
       "      <td>1.92</td>\n",
       "      <td>0.000053</td>\n",
       "    </tr>\n",
       "    <tr>\n",
       "      <th>2019-12-20</th>\n",
       "      <td>1.92</td>\n",
       "      <td>0.002740</td>\n",
       "      <td>1.92</td>\n",
       "      <td>0.000053</td>\n",
       "    </tr>\n",
       "    <tr>\n",
       "      <th>2019-12-23</th>\n",
       "      <td>1.93</td>\n",
       "      <td>0.008219</td>\n",
       "      <td>1.92</td>\n",
       "      <td>-0.000748</td>\n",
       "    </tr>\n",
       "    <tr>\n",
       "      <th>2019-12-24</th>\n",
       "      <td>1.90</td>\n",
       "      <td>0.002740</td>\n",
       "      <td>1.93</td>\n",
       "      <td>0.002773</td>\n",
       "    </tr>\n",
       "    <tr>\n",
       "      <th>2019-12-26</th>\n",
       "      <td>1.90</td>\n",
       "      <td>0.005479</td>\n",
       "      <td>1.90</td>\n",
       "      <td>0.000104</td>\n",
       "    </tr>\n",
       "    <tr>\n",
       "      <th>2019-12-27</th>\n",
       "      <td>1.88</td>\n",
       "      <td>0.002740</td>\n",
       "      <td>1.90</td>\n",
       "      <td>0.001868</td>\n",
       "    </tr>\n",
       "    <tr>\n",
       "      <th>2019-12-30</th>\n",
       "      <td>1.90</td>\n",
       "      <td>0.008219</td>\n",
       "      <td>1.88</td>\n",
       "      <td>-0.001659</td>\n",
       "    </tr>\n",
       "    <tr>\n",
       "      <th>2019-12-31</th>\n",
       "      <td>1.92</td>\n",
       "      <td>0.002740</td>\n",
       "      <td>1.90</td>\n",
       "      <td>-0.001760</td>\n",
       "    </tr>\n",
       "  </tbody>\n",
       "</table>\n",
       "</div>"
      ],
      "text/plain": [
       "            10y Yield         t  Prev    Return\n",
       "2019-12-13       1.82  0.002740  1.90  0.007336\n",
       "2019-12-16       1.89  0.008219  1.82 -0.006201\n",
       "2019-12-17       1.89  0.002740  1.89  0.000052\n",
       "2019-12-18       1.92  0.002740  1.89 -0.002666\n",
       "2019-12-19       1.92  0.002740  1.92  0.000053\n",
       "2019-12-20       1.92  0.002740  1.92  0.000053\n",
       "2019-12-23       1.93  0.008219  1.92 -0.000748\n",
       "2019-12-24       1.90  0.002740  1.93  0.002773\n",
       "2019-12-26       1.90  0.005479  1.90  0.000104\n",
       "2019-12-27       1.88  0.002740  1.90  0.001868\n",
       "2019-12-30       1.90  0.008219  1.88 -0.001659\n",
       "2019-12-31       1.92  0.002740  1.90 -0.001760"
      ]
     },
     "execution_count": 21,
     "metadata": {},
     "output_type": "execute_result"
    }
   ],
   "source": [
    "calc.tail(12)"
   ]
  },
  {
   "cell_type": "code",
   "execution_count": 22,
   "metadata": {},
   "outputs": [],
   "source": [
    "# Returns make sense, small positive for days with no yield change and yield higher = negative returns"
   ]
  },
  {
   "cell_type": "code",
   "execution_count": 23,
   "metadata": {},
   "outputs": [],
   "source": [
    "response = pd.DataFrame()"
   ]
  },
  {
   "cell_type": "code",
   "execution_count": 24,
   "metadata": {},
   "outputs": [],
   "source": [
    "response['Stock_Returns']=closes['SPX Price'].pct_change().dropna()\n",
    "response['Bond_Returns'] = calc['Return']"
   ]
  },
  {
   "cell_type": "code",
   "execution_count": 25,
   "metadata": {},
   "outputs": [],
   "source": [
    "gsci = pd.read_csv('gsci_final_data.csv',parse_dates=True,index_col=0)"
   ]
  },
  {
   "cell_type": "code",
   "execution_count": 26,
   "metadata": {},
   "outputs": [],
   "source": [
    "gsci['Commodity_Returns'] = gsci.Close.pct_change().dropna()"
   ]
  },
  {
   "cell_type": "code",
   "execution_count": 27,
   "metadata": {},
   "outputs": [],
   "source": [
    "gsci = gsci['Commodity_Returns']"
   ]
  },
  {
   "cell_type": "code",
   "execution_count": 28,
   "metadata": {},
   "outputs": [],
   "source": [
    "response = response.join(gsci,how='left')"
   ]
  },
  {
   "cell_type": "code",
   "execution_count": 29,
   "metadata": {},
   "outputs": [
    {
     "data": {
      "text/plain": [
       "2019-09-23   NaN\n",
       "Name: Commodity_Returns, dtype: float64"
      ]
     },
     "execution_count": 29,
     "metadata": {},
     "output_type": "execute_result"
    }
   ],
   "source": [
    "response.Commodity_Returns.loc['1981':][response.Commodity_Returns.loc['1981':].isnull()]"
   ]
  },
  {
   "cell_type": "code",
   "execution_count": 30,
   "metadata": {},
   "outputs": [],
   "source": [
    "response.Commodity_Returns.loc['1981':].fillna(0,inplace=True)"
   ]
  },
  {
   "cell_type": "code",
   "execution_count": 31,
   "metadata": {},
   "outputs": [
    {
     "data": {
      "text/plain": [
       "Stock_Returns       -0.000097\n",
       "Bond_Returns         0.001973\n",
       "Commodity_Returns    0.000000\n",
       "Name: 2019-09-23 00:00:00, dtype: float64"
      ]
     },
     "execution_count": 31,
     "metadata": {},
     "output_type": "execute_result"
    }
   ],
   "source": [
    "response.loc['9/23/2019']"
   ]
  },
  {
   "cell_type": "code",
   "execution_count": 54,
   "metadata": {},
   "outputs": [
    {
     "data": {
      "text/plain": [
       "Text(0.5, 0, 'Year')"
      ]
     },
     "execution_count": 54,
     "metadata": {},
     "output_type": "execute_result"
    },
    {
     "data": {
      "image/png": "[encoded data removed]",
      "text/plain": [
       "<Figure size 1280x800 with 1 Axes>"
      ]
     },
     "metadata": {},
     "output_type": "display_data"
    }
   ],
   "source": [
    "plt.style.use('fivethirtyeight')\n",
    "response.plot(alpha=.7,figsize=(16,10)) \n",
    "plt.title('Daily Returns Across Asset Classes')\n",
    "plt.ylabel('Percent Returns')\n",
    "plt.xlabel('Year')"
   ]
  },
  {
   "cell_type": "markdown",
   "metadata": {},
   "source": [
    "## Query features"
   ]
  },
  {
   "cell_type": "code",
   "execution_count": 55,
   "metadata": {},
   "outputs": [],
   "source": [
    "#economic features\n",
    "\n",
    "core_pce = fred.get_series('PCEPILFE',start_d,end_d).dropna()\n",
    "core_pce=core_pce.pct_change().dropna()\n",
    "\n",
    "nfp = fred.get_series('PAYEMS',start_d,end_d).dropna()\n",
    "nfp = nfp.diff().dropna()\n",
    "\n",
    "unemp = fred.get_series('UNRATE',start_d,end_d).dropna()\n",
    "\n",
    "#excluding retail sales\n",
    "#retail = fred.get_series('RSFSXMV',start_d,end_d).dropna()\n",
    "#retail = retail.pct_change().dropna()\n",
    "\n",
    "housing = fred.get_series('HOUST',start_d,end_d).dropna()\n",
    "\n",
    "ip = fred.get_series('INDPRO',start_d,end_d).dropna()\n",
    "ip = ip.pct_change().dropna()\n",
    "\n",
    "ism = quandl.get(\"ISM/MAN_PMI\",start_date=start_d, end_date=end_d)['PMI'].dropna() # Index to 50, above 50 = expanding comapred to prev month\n",
    "\n",
    "umich_sent = fred.get_series('UMCSENT',start_d,end_d).dropna()\n",
    "\n",
    "umich_inf = fred.get_series('MICH',start_d,end_d).dropna()\n",
    "\n",
    "cpi = fred.get_series('CPILFESL',start_d,end_d).dropna()\n",
    "cpi = cpi.pct_change().dropna()\n",
    "\n",
    "economic_feat = {\n",
    "    \"Core_PCE\":core_pce,\n",
    "    \"NFP\": nfp,\n",
    "    \"UnEmp\":unemp,\n",
    "    \"Hstarts\":housing,\n",
    "    \"IP\":ip,\n",
    "    \"ISM\":ism,\n",
    "    \"Mich_Sent\":umich_sent,\n",
    "    \"Mich_Inf\":umich_inf,\n",
    "    \"CPI\":cpi}"
   ]
  },
  {
   "cell_type": "code",
   "execution_count": 56,
   "metadata": {},
   "outputs": [],
   "source": [
    "df_eco = pd.DataFrame(economic_feat).dropna()"
   ]
  },
  {
   "cell_type": "code",
   "execution_count": 57,
   "metadata": {},
   "outputs": [
    {
     "name": "stdout",
     "output_type": "stream",
     "text": [
      "<class 'pandas.core.frame.DataFrame'>\n",
      "DatetimeIndex: 503 entries, 1978-02-01 to 2019-12-01\n",
      "Freq: MS\n",
      "Data columns (total 9 columns):\n",
      " #   Column     Non-Null Count  Dtype  \n",
      "---  ------     --------------  -----  \n",
      " 0   Core_PCE   503 non-null    float64\n",
      " 1   NFP        503 non-null    float64\n",
      " 2   UnEmp      503 non-null    float64\n",
      " 3   Hstarts    503 non-null    float64\n",
      " 4   IP         503 non-null    float64\n",
      " 5   ISM        503 non-null    float64\n",
      " 6   Mich_Sent  503 non-null    float64\n",
      " 7   Mich_Inf   503 non-null    float64\n",
      " 8   CPI        503 non-null    float64\n",
      "dtypes: float64(9)\n",
      "memory usage: 39.3 KB\n"
     ]
    }
   ],
   "source": [
    "df_eco.info()"
   ]
  },
  {
   "cell_type": "code",
   "execution_count": 58,
   "metadata": {},
   "outputs": [],
   "source": [
    "# Market Implied Features\n",
    "\n",
    "bill3m = fred.get_series('TB3MS',start_d,end_d).dropna()\n",
    "\n",
    "curve10y2y = fred.get_series('T10Y2Y',start_d,end_d).dropna()\n",
    "\n",
    "y5 = fred.get_series('DGS5',start_d,end_d).dropna()\n",
    "#y10 #calculated at top"
   ]
  },
  {
   "cell_type": "code",
   "execution_count": 59,
   "metadata": {},
   "outputs": [
    {
     "data": {
      "text/plain": [
       "0"
      ]
     },
     "execution_count": 59,
     "metadata": {},
     "output_type": "execute_result"
    }
   ],
   "source": [
    "#make sure index matches\n",
    "(y5.index != y10.index).sum()"
   ]
  },
  {
   "cell_type": "code",
   "execution_count": 60,
   "metadata": {},
   "outputs": [],
   "source": [
    "fwd5y5y = 2*y10 - y5"
   ]
  },
  {
   "cell_type": "code",
   "execution_count": 61,
   "metadata": {},
   "outputs": [],
   "source": [
    "mkt_feat={\n",
    "    \"3M_Rate\": bill3m,\n",
    "    \"10Y_2Y_Curve\": curve10y2y,\n",
    "    \"5y5y_Forward\": fwd5y5y\n",
    "}"
   ]
  },
  {
   "cell_type": "code",
   "execution_count": 62,
   "metadata": {},
   "outputs": [],
   "source": [
    "df_mkt = pd.DataFrame(mkt_feat)"
   ]
  },
  {
   "cell_type": "code",
   "execution_count": 63,
   "metadata": {},
   "outputs": [
    {
     "data": {
      "text/html": [
       "<div>\n",
       "<style scoped>\n",
       "    .dataframe tbody tr th:only-of-type {\n",
       "        vertical-align: middle;\n",
       "    }\n",
       "\n",
       "    .dataframe tbody tr th {\n",
       "        vertical-align: top;\n",
       "    }\n",
       "\n",
       "    .dataframe thead th {\n",
       "        text-align: right;\n",
       "    }\n",
       "</style>\n",
       "<table border=\"1\" class=\"dataframe\">\n",
       "  <thead>\n",
       "    <tr style=\"text-align: right;\">\n",
       "      <th></th>\n",
       "      <th>3M_Rate</th>\n",
       "      <th>10Y_2Y_Curve</th>\n",
       "      <th>5y5y_Forward</th>\n",
       "    </tr>\n",
       "  </thead>\n",
       "  <tbody>\n",
       "    <tr>\n",
       "      <th>1978-01-01</th>\n",
       "      <td>6.44</td>\n",
       "      <td>0.470476</td>\n",
       "      <td>8.146190</td>\n",
       "    </tr>\n",
       "    <tr>\n",
       "      <th>1978-02-01</th>\n",
       "      <td>6.45</td>\n",
       "      <td>0.468333</td>\n",
       "      <td>8.234444</td>\n",
       "    </tr>\n",
       "    <tr>\n",
       "      <th>1978-03-01</th>\n",
       "      <td>6.29</td>\n",
       "      <td>0.460909</td>\n",
       "      <td>8.214091</td>\n",
       "    </tr>\n",
       "    <tr>\n",
       "      <th>1978-04-01</th>\n",
       "      <td>6.29</td>\n",
       "      <td>0.410500</td>\n",
       "      <td>8.325500</td>\n",
       "    </tr>\n",
       "    <tr>\n",
       "      <th>1978-05-01</th>\n",
       "      <td>6.41</td>\n",
       "      <td>0.339524</td>\n",
       "      <td>8.515714</td>\n",
       "    </tr>\n",
       "    <tr>\n",
       "      <th>...</th>\n",
       "      <td>...</td>\n",
       "      <td>...</td>\n",
       "      <td>...</td>\n",
       "    </tr>\n",
       "    <tr>\n",
       "      <th>2019-08-01</th>\n",
       "      <td>1.95</td>\n",
       "      <td>0.055000</td>\n",
       "      <td>1.765909</td>\n",
       "    </tr>\n",
       "    <tr>\n",
       "      <th>2019-09-01</th>\n",
       "      <td>1.89</td>\n",
       "      <td>0.051500</td>\n",
       "      <td>1.834000</td>\n",
       "    </tr>\n",
       "    <tr>\n",
       "      <th>2019-10-01</th>\n",
       "      <td>1.65</td>\n",
       "      <td>0.155455</td>\n",
       "      <td>1.888636</td>\n",
       "    </tr>\n",
       "    <tr>\n",
       "      <th>2019-11-01</th>\n",
       "      <td>1.54</td>\n",
       "      <td>0.199474</td>\n",
       "      <td>1.984737</td>\n",
       "    </tr>\n",
       "    <tr>\n",
       "      <th>2019-12-01</th>\n",
       "      <td>1.54</td>\n",
       "      <td>0.249524</td>\n",
       "      <td>2.043333</td>\n",
       "    </tr>\n",
       "  </tbody>\n",
       "</table>\n",
       "<p>504 rows × 3 columns</p>\n",
       "</div>"
      ],
      "text/plain": [
       "            3M_Rate  10Y_2Y_Curve  5y5y_Forward\n",
       "1978-01-01     6.44      0.470476      8.146190\n",
       "1978-02-01     6.45      0.468333      8.234444\n",
       "1978-03-01     6.29      0.460909      8.214091\n",
       "1978-04-01     6.29      0.410500      8.325500\n",
       "1978-05-01     6.41      0.339524      8.515714\n",
       "...             ...           ...           ...\n",
       "2019-08-01     1.95      0.055000      1.765909\n",
       "2019-09-01     1.89      0.051500      1.834000\n",
       "2019-10-01     1.65      0.155455      1.888636\n",
       "2019-11-01     1.54      0.199474      1.984737\n",
       "2019-12-01     1.54      0.249524      2.043333\n",
       "\n",
       "[504 rows x 3 columns]"
      ]
     },
     "execution_count": 63,
     "metadata": {},
     "output_type": "execute_result"
    }
   ],
   "source": [
    "df_mkt.resample('MS').mean()"
   ]
  },
  {
   "cell_type": "code",
   "execution_count": 64,
   "metadata": {},
   "outputs": [
    {
     "name": "stdout",
     "output_type": "stream",
     "text": [
      "1.65\n",
      "0.15545454545454543\n",
      "1.888636363636364\n"
     ]
    }
   ],
   "source": [
    "#spot check\n",
    "print(bill3m.loc['2019-10-1'])\n",
    "print(curve10y2y.loc['2019-10'].mean())\n",
    "print(fwd5y5y.loc['2019-10'].mean())\n",
    "\n"
   ]
  },
  {
   "cell_type": "code",
   "execution_count": 65,
   "metadata": {},
   "outputs": [],
   "source": [
    "#looks good\n",
    "df_mkt=df_mkt.resample('MS').mean()"
   ]
  },
  {
   "cell_type": "code",
   "execution_count": 66,
   "metadata": {},
   "outputs": [],
   "source": [
    "df_feat = df_mkt.join(df_eco)"
   ]
  },
  {
   "cell_type": "code",
   "execution_count": 67,
   "metadata": {},
   "outputs": [
    {
     "data": {
      "text/html": [
       "<div>\n",
       "<style scoped>\n",
       "    .dataframe tbody tr th:only-of-type {\n",
       "        vertical-align: middle;\n",
       "    }\n",
       "\n",
       "    .dataframe tbody tr th {\n",
       "        vertical-align: top;\n",
       "    }\n",
       "\n",
       "    .dataframe thead th {\n",
       "        text-align: right;\n",
       "    }\n",
       "</style>\n",
       "<table border=\"1\" class=\"dataframe\">\n",
       "  <thead>\n",
       "    <tr style=\"text-align: right;\">\n",
       "      <th></th>\n",
       "      <th>3M_Rate</th>\n",
       "      <th>10Y_2Y_Curve</th>\n",
       "      <th>5y5y_Forward</th>\n",
       "      <th>Core_PCE</th>\n",
       "      <th>NFP</th>\n",
       "      <th>UnEmp</th>\n",
       "      <th>Hstarts</th>\n",
       "      <th>IP</th>\n",
       "      <th>ISM</th>\n",
       "      <th>Mich_Sent</th>\n",
       "      <th>Mich_Inf</th>\n",
       "      <th>CPI</th>\n",
       "    </tr>\n",
       "  </thead>\n",
       "  <tbody>\n",
       "    <tr>\n",
       "      <th>1978-01-01</th>\n",
       "      <td>6.44</td>\n",
       "      <td>0.470476</td>\n",
       "      <td>8.146190</td>\n",
       "      <td>NaN</td>\n",
       "      <td>NaN</td>\n",
       "      <td>NaN</td>\n",
       "      <td>NaN</td>\n",
       "      <td>NaN</td>\n",
       "      <td>NaN</td>\n",
       "      <td>NaN</td>\n",
       "      <td>NaN</td>\n",
       "      <td>NaN</td>\n",
       "    </tr>\n",
       "    <tr>\n",
       "      <th>1978-02-01</th>\n",
       "      <td>6.45</td>\n",
       "      <td>0.468333</td>\n",
       "      <td>8.234444</td>\n",
       "      <td>0.003835</td>\n",
       "      <td>354.0</td>\n",
       "      <td>6.3</td>\n",
       "      <td>1738.0</td>\n",
       "      <td>0.004951</td>\n",
       "      <td>55.9</td>\n",
       "      <td>84.3</td>\n",
       "      <td>6.4</td>\n",
       "      <td>0.004754</td>\n",
       "    </tr>\n",
       "    <tr>\n",
       "      <th>1978-03-01</th>\n",
       "      <td>6.29</td>\n",
       "      <td>0.460909</td>\n",
       "      <td>8.214091</td>\n",
       "      <td>0.005407</td>\n",
       "      <td>512.0</td>\n",
       "      <td>6.3</td>\n",
       "      <td>2032.0</td>\n",
       "      <td>0.019062</td>\n",
       "      <td>55.0</td>\n",
       "      <td>78.8</td>\n",
       "      <td>6.3</td>\n",
       "      <td>0.006309</td>\n",
       "    </tr>\n",
       "    <tr>\n",
       "      <th>1978-04-01</th>\n",
       "      <td>6.29</td>\n",
       "      <td>0.410500</td>\n",
       "      <td>8.325500</td>\n",
       "      <td>0.006489</td>\n",
       "      <td>702.0</td>\n",
       "      <td>6.1</td>\n",
       "      <td>2197.0</td>\n",
       "      <td>0.020717</td>\n",
       "      <td>57.7</td>\n",
       "      <td>81.6</td>\n",
       "      <td>6.7</td>\n",
       "      <td>0.007837</td>\n",
       "    </tr>\n",
       "    <tr>\n",
       "      <th>1978-05-01</th>\n",
       "      <td>6.41</td>\n",
       "      <td>0.339524</td>\n",
       "      <td>8.515714</td>\n",
       "      <td>0.005866</td>\n",
       "      <td>347.0</td>\n",
       "      <td>6.0</td>\n",
       "      <td>2075.0</td>\n",
       "      <td>0.003709</td>\n",
       "      <td>60.2</td>\n",
       "      <td>82.9</td>\n",
       "      <td>6.9</td>\n",
       "      <td>0.006221</td>\n",
       "    </tr>\n",
       "    <tr>\n",
       "      <th>...</th>\n",
       "      <td>...</td>\n",
       "      <td>...</td>\n",
       "      <td>...</td>\n",
       "      <td>...</td>\n",
       "      <td>...</td>\n",
       "      <td>...</td>\n",
       "      <td>...</td>\n",
       "      <td>...</td>\n",
       "      <td>...</td>\n",
       "      <td>...</td>\n",
       "      <td>...</td>\n",
       "      <td>...</td>\n",
       "    </tr>\n",
       "    <tr>\n",
       "      <th>2019-08-01</th>\n",
       "      <td>1.95</td>\n",
       "      <td>0.055000</td>\n",
       "      <td>1.765909</td>\n",
       "      <td>0.001419</td>\n",
       "      <td>207.0</td>\n",
       "      <td>3.7</td>\n",
       "      <td>1377.0</td>\n",
       "      <td>0.007050</td>\n",
       "      <td>48.8</td>\n",
       "      <td>89.8</td>\n",
       "      <td>2.7</td>\n",
       "      <td>0.002250</td>\n",
       "    </tr>\n",
       "    <tr>\n",
       "      <th>2019-09-01</th>\n",
       "      <td>1.89</td>\n",
       "      <td>0.051500</td>\n",
       "      <td>1.834000</td>\n",
       "      <td>0.000766</td>\n",
       "      <td>208.0</td>\n",
       "      <td>3.5</td>\n",
       "      <td>1274.0</td>\n",
       "      <td>-0.003476</td>\n",
       "      <td>48.2</td>\n",
       "      <td>93.2</td>\n",
       "      <td>2.8</td>\n",
       "      <td>0.001900</td>\n",
       "    </tr>\n",
       "    <tr>\n",
       "      <th>2019-10-01</th>\n",
       "      <td>1.65</td>\n",
       "      <td>0.155455</td>\n",
       "      <td>1.888636</td>\n",
       "      <td>0.001300</td>\n",
       "      <td>185.0</td>\n",
       "      <td>3.6</td>\n",
       "      <td>1340.0</td>\n",
       "      <td>-0.004070</td>\n",
       "      <td>48.5</td>\n",
       "      <td>95.5</td>\n",
       "      <td>2.5</td>\n",
       "      <td>0.001152</td>\n",
       "    </tr>\n",
       "    <tr>\n",
       "      <th>2019-11-01</th>\n",
       "      <td>1.54</td>\n",
       "      <td>0.199474</td>\n",
       "      <td>1.984737</td>\n",
       "      <td>0.000471</td>\n",
       "      <td>261.0</td>\n",
       "      <td>3.5</td>\n",
       "      <td>1371.0</td>\n",
       "      <td>0.009280</td>\n",
       "      <td>48.1</td>\n",
       "      <td>96.8</td>\n",
       "      <td>2.5</td>\n",
       "      <td>0.001940</td>\n",
       "    </tr>\n",
       "    <tr>\n",
       "      <th>2019-12-01</th>\n",
       "      <td>1.54</td>\n",
       "      <td>0.249524</td>\n",
       "      <td>2.043333</td>\n",
       "      <td>0.002240</td>\n",
       "      <td>184.0</td>\n",
       "      <td>3.5</td>\n",
       "      <td>1587.0</td>\n",
       "      <td>-0.003509</td>\n",
       "      <td>47.8</td>\n",
       "      <td>99.3</td>\n",
       "      <td>2.3</td>\n",
       "      <td>0.001247</td>\n",
       "    </tr>\n",
       "  </tbody>\n",
       "</table>\n",
       "<p>504 rows × 12 columns</p>\n",
       "</div>"
      ],
      "text/plain": [
       "            3M_Rate  10Y_2Y_Curve  5y5y_Forward  Core_PCE    NFP  UnEmp  \\\n",
       "1978-01-01     6.44      0.470476      8.146190       NaN    NaN    NaN   \n",
       "1978-02-01     6.45      0.468333      8.234444  0.003835  354.0    6.3   \n",
       "1978-03-01     6.29      0.460909      8.214091  0.005407  512.0    6.3   \n",
       "1978-04-01     6.29      0.410500      8.325500  0.006489  702.0    6.1   \n",
       "1978-05-01     6.41      0.339524      8.515714  0.005866  347.0    6.0   \n",
       "...             ...           ...           ...       ...    ...    ...   \n",
       "2019-08-01     1.95      0.055000      1.765909  0.001419  207.0    3.7   \n",
       "2019-09-01     1.89      0.051500      1.834000  0.000766  208.0    3.5   \n",
       "2019-10-01     1.65      0.155455      1.888636  0.001300  185.0    3.6   \n",
       "2019-11-01     1.54      0.199474      1.984737  0.000471  261.0    3.5   \n",
       "2019-12-01     1.54      0.249524      2.043333  0.002240  184.0    3.5   \n",
       "\n",
       "            Hstarts        IP   ISM  Mich_Sent  Mich_Inf       CPI  \n",
       "1978-01-01      NaN       NaN   NaN        NaN       NaN       NaN  \n",
       "1978-02-01   1738.0  0.004951  55.9       84.3       6.4  0.004754  \n",
       "1978-03-01   2032.0  0.019062  55.0       78.8       6.3  0.006309  \n",
       "1978-04-01   2197.0  0.020717  57.7       81.6       6.7  0.007837  \n",
       "1978-05-01   2075.0  0.003709  60.2       82.9       6.9  0.006221  \n",
       "...             ...       ...   ...        ...       ...       ...  \n",
       "2019-08-01   1377.0  0.007050  48.8       89.8       2.7  0.002250  \n",
       "2019-09-01   1274.0 -0.003476  48.2       93.2       2.8  0.001900  \n",
       "2019-10-01   1340.0 -0.004070  48.5       95.5       2.5  0.001152  \n",
       "2019-11-01   1371.0  0.009280  48.1       96.8       2.5  0.001940  \n",
       "2019-12-01   1587.0 -0.003509  47.8       99.3       2.3  0.001247  \n",
       "\n",
       "[504 rows x 12 columns]"
      ]
     },
     "execution_count": 67,
     "metadata": {},
     "output_type": "execute_result"
    }
   ],
   "source": [
    "df_feat"
   ]
  },
  {
   "cell_type": "code",
   "execution_count": 69,
   "metadata": {},
   "outputs": [
    {
     "data": {
      "text/html": [
       "<div>\n",
       "<style scoped>\n",
       "    .dataframe tbody tr th:only-of-type {\n",
       "        vertical-align: middle;\n",
       "    }\n",
       "\n",
       "    .dataframe tbody tr th {\n",
       "        vertical-align: top;\n",
       "    }\n",
       "\n",
       "    .dataframe thead th {\n",
       "        text-align: right;\n",
       "    }\n",
       "</style>\n",
       "<table border=\"1\" class=\"dataframe\">\n",
       "  <thead>\n",
       "    <tr style=\"text-align: right;\">\n",
       "      <th></th>\n",
       "      <th>count</th>\n",
       "      <th>mean</th>\n",
       "      <th>std</th>\n",
       "      <th>min</th>\n",
       "      <th>25%</th>\n",
       "      <th>50%</th>\n",
       "      <th>75%</th>\n",
       "      <th>max</th>\n",
       "    </tr>\n",
       "  </thead>\n",
       "  <tbody>\n",
       "    <tr>\n",
       "      <th>3M_Rate</th>\n",
       "      <td>504.0</td>\n",
       "      <td>4.442619</td>\n",
       "      <td>3.621002</td>\n",
       "      <td>0.010000</td>\n",
       "      <td>1.170000</td>\n",
       "      <td>4.555000</td>\n",
       "      <td>6.442500</td>\n",
       "      <td>16.300000</td>\n",
       "    </tr>\n",
       "    <tr>\n",
       "      <th>10Y_2Y_Curve</th>\n",
       "      <td>504.0</td>\n",
       "      <td>0.931684</td>\n",
       "      <td>0.929142</td>\n",
       "      <td>-2.135714</td>\n",
       "      <td>0.223750</td>\n",
       "      <td>0.859012</td>\n",
       "      <td>1.618182</td>\n",
       "      <td>2.834211</td>\n",
       "    </tr>\n",
       "    <tr>\n",
       "      <th>5y5y_Forward</th>\n",
       "      <td>504.0</td>\n",
       "      <td>6.603806</td>\n",
       "      <td>3.067481</td>\n",
       "      <td>1.765909</td>\n",
       "      <td>4.504762</td>\n",
       "      <td>5.874318</td>\n",
       "      <td>8.539529</td>\n",
       "      <td>14.889524</td>\n",
       "    </tr>\n",
       "    <tr>\n",
       "      <th>Core_PCE</th>\n",
       "      <td>503.0</td>\n",
       "      <td>0.002394</td>\n",
       "      <td>0.001888</td>\n",
       "      <td>-0.005599</td>\n",
       "      <td>0.001192</td>\n",
       "      <td>0.001912</td>\n",
       "      <td>0.002991</td>\n",
       "      <td>0.009978</td>\n",
       "    </tr>\n",
       "    <tr>\n",
       "      <th>NFP</th>\n",
       "      <td>503.0</td>\n",
       "      <td>134.003976</td>\n",
       "      <td>207.156041</td>\n",
       "      <td>-800.000000</td>\n",
       "      <td>50.500000</td>\n",
       "      <td>175.000000</td>\n",
       "      <td>264.500000</td>\n",
       "      <td>1118.000000</td>\n",
       "    </tr>\n",
       "    <tr>\n",
       "      <th>UnEmp</th>\n",
       "      <td>503.0</td>\n",
       "      <td>6.186879</td>\n",
       "      <td>1.648090</td>\n",
       "      <td>3.500000</td>\n",
       "      <td>5.000000</td>\n",
       "      <td>5.800000</td>\n",
       "      <td>7.200000</td>\n",
       "      <td>10.800000</td>\n",
       "    </tr>\n",
       "    <tr>\n",
       "      <th>Hstarts</th>\n",
       "      <td>503.0</td>\n",
       "      <td>1373.918489</td>\n",
       "      <td>397.552506</td>\n",
       "      <td>478.000000</td>\n",
       "      <td>1112.000000</td>\n",
       "      <td>1416.000000</td>\n",
       "      <td>1649.500000</td>\n",
       "      <td>2273.000000</td>\n",
       "    </tr>\n",
       "    <tr>\n",
       "      <th>IP</th>\n",
       "      <td>503.0</td>\n",
       "      <td>0.001617</td>\n",
       "      <td>0.006687</td>\n",
       "      <td>-0.043368</td>\n",
       "      <td>-0.001991</td>\n",
       "      <td>0.002060</td>\n",
       "      <td>0.005600</td>\n",
       "      <td>0.020717</td>\n",
       "    </tr>\n",
       "    <tr>\n",
       "      <th>ISM</th>\n",
       "      <td>503.0</td>\n",
       "      <td>52.045924</td>\n",
       "      <td>5.806009</td>\n",
       "      <td>29.400000</td>\n",
       "      <td>49.300000</td>\n",
       "      <td>52.500000</td>\n",
       "      <td>56.050000</td>\n",
       "      <td>69.900000</td>\n",
       "    </tr>\n",
       "    <tr>\n",
       "      <th>Mich_Sent</th>\n",
       "      <td>503.0</td>\n",
       "      <td>86.316501</td>\n",
       "      <td>12.649808</td>\n",
       "      <td>51.700000</td>\n",
       "      <td>76.500000</td>\n",
       "      <td>90.000000</td>\n",
       "      <td>95.100000</td>\n",
       "      <td>112.000000</td>\n",
       "    </tr>\n",
       "    <tr>\n",
       "      <th>Mich_Inf</th>\n",
       "      <td>503.0</td>\n",
       "      <td>3.561034</td>\n",
       "      <td>1.677907</td>\n",
       "      <td>0.400000</td>\n",
       "      <td>2.800000</td>\n",
       "      <td>3.000000</td>\n",
       "      <td>3.400000</td>\n",
       "      <td>10.400000</td>\n",
       "    </tr>\n",
       "    <tr>\n",
       "      <th>CPI</th>\n",
       "      <td>503.0</td>\n",
       "      <td>0.002866</td>\n",
       "      <td>0.002342</td>\n",
       "      <td>-0.002469</td>\n",
       "      <td>0.001545</td>\n",
       "      <td>0.002219</td>\n",
       "      <td>0.003425</td>\n",
       "      <td>0.014194</td>\n",
       "    </tr>\n",
       "  </tbody>\n",
       "</table>\n",
       "</div>"
      ],
      "text/plain": [
       "              count         mean         std         min          25%  \\\n",
       "3M_Rate       504.0     4.442619    3.621002    0.010000     1.170000   \n",
       "10Y_2Y_Curve  504.0     0.931684    0.929142   -2.135714     0.223750   \n",
       "5y5y_Forward  504.0     6.603806    3.067481    1.765909     4.504762   \n",
       "Core_PCE      503.0     0.002394    0.001888   -0.005599     0.001192   \n",
       "NFP           503.0   134.003976  207.156041 -800.000000    50.500000   \n",
       "UnEmp         503.0     6.186879    1.648090    3.500000     5.000000   \n",
       "Hstarts       503.0  1373.918489  397.552506  478.000000  1112.000000   \n",
       "IP            503.0     0.001617    0.006687   -0.043368    -0.001991   \n",
       "ISM           503.0    52.045924    5.806009   29.400000    49.300000   \n",
       "Mich_Sent     503.0    86.316501   12.649808   51.700000    76.500000   \n",
       "Mich_Inf      503.0     3.561034    1.677907    0.400000     2.800000   \n",
       "CPI           503.0     0.002866    0.002342   -0.002469     0.001545   \n",
       "\n",
       "                      50%          75%          max  \n",
       "3M_Rate          4.555000     6.442500    16.300000  \n",
       "10Y_2Y_Curve     0.859012     1.618182     2.834211  \n",
       "5y5y_Forward     5.874318     8.539529    14.889524  \n",
       "Core_PCE         0.001912     0.002991     0.009978  \n",
       "NFP            175.000000   264.500000  1118.000000  \n",
       "UnEmp            5.800000     7.200000    10.800000  \n",
       "Hstarts       1416.000000  1649.500000  2273.000000  \n",
       "IP               0.002060     0.005600     0.020717  \n",
       "ISM             52.500000    56.050000    69.900000  \n",
       "Mich_Sent       90.000000    95.100000   112.000000  \n",
       "Mich_Inf         3.000000     3.400000    10.400000  \n",
       "CPI              0.002219     0.003425     0.014194  "
      ]
     },
     "execution_count": 69,
     "metadata": {},
     "output_type": "execute_result"
    }
   ],
   "source": [
    "df_feat.describe().T"
   ]
  },
  {
   "cell_type": "markdown",
   "metadata": {},
   "source": [
    "## DONE\n",
    " \n",
    "df_feat contains all the features on a monthly basis\n",
    "\n",
    "response contains the daily % returns of stocks and bonds"
   ]
  },
  {
   "cell_type": "code",
   "execution_count": null,
   "metadata": {},
   "outputs": [],
   "source": [
    "df_feat.to_csv(\"raw_features.csv\")\n",
    "response.to_csv(\"raw_response.csv\")"
   ]
  },
  {
   "cell_type": "code",
   "execution_count": 86,
   "metadata": {},
   "outputs": [],
   "source": [
    "c = response[['Stock_Returns','Commodity_Returns']].resample('M').std().join(response[['Stock_Returns','Commodity_Returns']].resample('M').mean(),rsuffix='_mean',lsuffix='_std').corr()\n",
    "c = response.resample('M').std().join(response.resample('M').mean(),rsuffix='_mean',lsuffix='_std').corr()\n"
   ]
  },
  {
   "cell_type": "code",
   "execution_count": 87,
   "metadata": {},
   "outputs": [],
   "source": [
    "import seaborn as sns"
   ]
  },
  {
   "cell_type": "code",
   "execution_count": 91,
   "metadata": {
    "scrolled": false
   },
   "outputs": [
    {
     "data": {
      "text/plain": [
       "Text(0.5, 1.0, 'Returns vs. Std. Correlation')"
      ]
     },
     "execution_count": 91,
     "metadata": {},
     "output_type": "execute_result"
    },
    {
     "data": {
      "image/png": "[encoded data removed]",
      "text/plain": [
       "<Figure size 640x480 with 2 Axes>"
      ]
     },
     "metadata": {},
     "output_type": "display_data"
    }
   ],
   "source": [
    "plt.figure(figsize=(8, 6))\n",
    "sns.heatmap(c,vmin=-.75,annot=True,cmap='coolwarm')\n",
    "plt.title('Returns vs. Std. Correlation')"
   ]
  },
  {
   "cell_type": "code",
   "execution_count": null,
   "metadata": {},
   "outputs": [],
   "source": []
  }
 ],
 "metadata": {
  "kernelspec": {
   "display_name": "Python 3",
   "language": "python",
   "name": "python3"
  },
  "language_info": {
   "codemirror_mode": {
    "name": "ipython",
    "version": 3
   },
   "file_extension": ".py",
   "mimetype": "text/x-python",
   "name": "python",
   "nbconvert_exporter": "python",
   "pygments_lexer": "ipython3",
   "version": "3.8.3"
  },
  "varInspector": {
   "cols": {
    "lenName": 16,
    "lenType": 16,
    "lenVar": 40
   },
   "kernels_config": {
    "python": {
     "delete_cmd_postfix": "",
     "delete_cmd_prefix": "del ",
     "library": "var_list.py",
     "varRefreshCmd": "print(var_dic_list())"
    },
    "r": {
     "delete_cmd_postfix": ") ",
     "delete_cmd_prefix": "rm(",
     "library": "var_list.r",
     "varRefreshCmd": "cat(var_dic_list()) "
    }
   },
   "types_to_exclude": [
    "module",
    "function",
    "builtin_function_or_method",
    "instance",
    "_Feature"
   ],
   "window_display": false
  }
 },
 "nbformat": 4,
 "nbformat_minor": 2
}
