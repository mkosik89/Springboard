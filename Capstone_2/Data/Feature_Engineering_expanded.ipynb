{
 "cells": [
  {
   "cell_type": "code",
   "execution_count": 171,
   "metadata": {},
   "outputs": [],
   "source": [
    "import pandas as pd\n",
    "import numpy as np\n",
    "import matplotlib.pyplot as plt\n",
    "import seaborn as sns\n",
    "\n",
    "from sklearn.preprocessing import StandardScaler\n",
    "\n",
    "%matplotlib inline"
   ]
  },
  {
   "cell_type": "code",
   "execution_count": 182,
   "metadata": {},
   "outputs": [],
   "source": [
    "df_feat = pd.read_csv(\"raw_features.csv\",index_col=0,parse_dates=True)\n",
    "returns = pd.read_csv(\"raw_response.csv\",index_col=0,parse_dates=True)\n",
    "df_feat.dropna(inplace=True)\n",
    "\n",
    "scaler = StandardScaler()"
   ]
  },
  {
   "cell_type": "code",
   "execution_count": 183,
   "metadata": {},
   "outputs": [
    {
     "data": {
      "text/html": [
       "<div>\n",
       "<style scoped>\n",
       "    .dataframe tbody tr th:only-of-type {\n",
       "        vertical-align: middle;\n",
       "    }\n",
       "\n",
       "    .dataframe tbody tr th {\n",
       "        vertical-align: top;\n",
       "    }\n",
       "\n",
       "    .dataframe thead th {\n",
       "        text-align: right;\n",
       "    }\n",
       "</style>\n",
       "<table border=\"1\" class=\"dataframe\">\n",
       "  <thead>\n",
       "    <tr style=\"text-align: right;\">\n",
       "      <th></th>\n",
       "      <th>3M_Rate</th>\n",
       "      <th>10Y_2Y_Curve</th>\n",
       "      <th>5y5y_Forward</th>\n",
       "      <th>Core_PCE</th>\n",
       "      <th>NFP</th>\n",
       "      <th>UnEmp</th>\n",
       "      <th>Hstarts</th>\n",
       "      <th>IP</th>\n",
       "      <th>ISM</th>\n",
       "      <th>Mich_Sent</th>\n",
       "      <th>Mich_Inf</th>\n",
       "      <th>CPI</th>\n",
       "    </tr>\n",
       "  </thead>\n",
       "  <tbody>\n",
       "    <tr>\n",
       "      <th>2019-08-01</th>\n",
       "      <td>1.95</td>\n",
       "      <td>0.055000</td>\n",
       "      <td>1.765909</td>\n",
       "      <td>0.001332</td>\n",
       "      <td>207.0</td>\n",
       "      <td>3.7</td>\n",
       "      <td>1377.0</td>\n",
       "      <td>0.007050</td>\n",
       "      <td>48.8</td>\n",
       "      <td>89.8</td>\n",
       "      <td>2.7</td>\n",
       "      <td>0.002250</td>\n",
       "    </tr>\n",
       "    <tr>\n",
       "      <th>2019-09-01</th>\n",
       "      <td>1.89</td>\n",
       "      <td>0.051500</td>\n",
       "      <td>1.834000</td>\n",
       "      <td>0.000518</td>\n",
       "      <td>208.0</td>\n",
       "      <td>3.5</td>\n",
       "      <td>1274.0</td>\n",
       "      <td>-0.003476</td>\n",
       "      <td>48.2</td>\n",
       "      <td>93.2</td>\n",
       "      <td>2.8</td>\n",
       "      <td>0.001900</td>\n",
       "    </tr>\n",
       "    <tr>\n",
       "      <th>2019-10-01</th>\n",
       "      <td>1.65</td>\n",
       "      <td>0.155455</td>\n",
       "      <td>1.888636</td>\n",
       "      <td>0.001267</td>\n",
       "      <td>185.0</td>\n",
       "      <td>3.6</td>\n",
       "      <td>1340.0</td>\n",
       "      <td>-0.004070</td>\n",
       "      <td>48.5</td>\n",
       "      <td>95.5</td>\n",
       "      <td>2.5</td>\n",
       "      <td>0.001152</td>\n",
       "    </tr>\n",
       "    <tr>\n",
       "      <th>2019-11-01</th>\n",
       "      <td>1.54</td>\n",
       "      <td>0.199474</td>\n",
       "      <td>1.984737</td>\n",
       "      <td>0.000544</td>\n",
       "      <td>261.0</td>\n",
       "      <td>3.5</td>\n",
       "      <td>1371.0</td>\n",
       "      <td>0.009280</td>\n",
       "      <td>48.1</td>\n",
       "      <td>96.8</td>\n",
       "      <td>2.5</td>\n",
       "      <td>0.001940</td>\n",
       "    </tr>\n",
       "    <tr>\n",
       "      <th>2019-12-01</th>\n",
       "      <td>1.54</td>\n",
       "      <td>0.249524</td>\n",
       "      <td>2.043333</td>\n",
       "      <td>0.002333</td>\n",
       "      <td>184.0</td>\n",
       "      <td>3.5</td>\n",
       "      <td>1587.0</td>\n",
       "      <td>-0.003509</td>\n",
       "      <td>47.8</td>\n",
       "      <td>99.3</td>\n",
       "      <td>2.3</td>\n",
       "      <td>0.001247</td>\n",
       "    </tr>\n",
       "  </tbody>\n",
       "</table>\n",
       "</div>"
      ],
      "text/plain": [
       "            3M_Rate  10Y_2Y_Curve  5y5y_Forward  Core_PCE    NFP  UnEmp  \\\n",
       "2019-08-01     1.95      0.055000      1.765909  0.001332  207.0    3.7   \n",
       "2019-09-01     1.89      0.051500      1.834000  0.000518  208.0    3.5   \n",
       "2019-10-01     1.65      0.155455      1.888636  0.001267  185.0    3.6   \n",
       "2019-11-01     1.54      0.199474      1.984737  0.000544  261.0    3.5   \n",
       "2019-12-01     1.54      0.249524      2.043333  0.002333  184.0    3.5   \n",
       "\n",
       "            Hstarts        IP   ISM  Mich_Sent  Mich_Inf       CPI  \n",
       "2019-08-01   1377.0  0.007050  48.8       89.8       2.7  0.002250  \n",
       "2019-09-01   1274.0 -0.003476  48.2       93.2       2.8  0.001900  \n",
       "2019-10-01   1340.0 -0.004070  48.5       95.5       2.5  0.001152  \n",
       "2019-11-01   1371.0  0.009280  48.1       96.8       2.5  0.001940  \n",
       "2019-12-01   1587.0 -0.003509  47.8       99.3       2.3  0.001247  "
      ]
     },
     "execution_count": 183,
     "metadata": {},
     "output_type": "execute_result"
    }
   ],
   "source": [
    "df_feat.tail()"
   ]
  },
  {
   "cell_type": "code",
   "execution_count": 184,
   "metadata": {},
   "outputs": [],
   "source": [
    "df_feat['5y5y.3m'] = (df_feat['5y5y_Forward'] - df_feat['3M_Rate'])"
   ]
  },
  {
   "cell_type": "code",
   "execution_count": null,
   "metadata": {},
   "outputs": [],
   "source": []
  },
  {
   "cell_type": "code",
   "execution_count": 185,
   "metadata": {},
   "outputs": [
    {
     "name": "stderr",
     "output_type": "stream",
     "text": [
      "c:\\users\\mattk\\appdata\\local\\programs\\python\\python36\\lib\\site-packages\\pandas\\plotting\\_matplotlib\\tools.py:307: MatplotlibDeprecationWarning: \n",
      "The rowNum attribute was deprecated in Matplotlib 3.2 and will be removed two minor releases later. Use ax.get_subplotspec().rowspan.start instead.\n",
      "  layout[ax.rowNum, ax.colNum] = ax.get_visible()\n",
      "c:\\users\\mattk\\appdata\\local\\programs\\python\\python36\\lib\\site-packages\\pandas\\plotting\\_matplotlib\\tools.py:307: MatplotlibDeprecationWarning: \n",
      "The colNum attribute was deprecated in Matplotlib 3.2 and will be removed two minor releases later. Use ax.get_subplotspec().colspan.start instead.\n",
      "  layout[ax.rowNum, ax.colNum] = ax.get_visible()\n",
      "c:\\users\\mattk\\appdata\\local\\programs\\python\\python36\\lib\\site-packages\\pandas\\plotting\\_matplotlib\\tools.py:313: MatplotlibDeprecationWarning: \n",
      "The rowNum attribute was deprecated in Matplotlib 3.2 and will be removed two minor releases later. Use ax.get_subplotspec().rowspan.start instead.\n",
      "  if not layout[ax.rowNum + 1, ax.colNum]:\n",
      "c:\\users\\mattk\\appdata\\local\\programs\\python\\python36\\lib\\site-packages\\pandas\\plotting\\_matplotlib\\tools.py:313: MatplotlibDeprecationWarning: \n",
      "The colNum attribute was deprecated in Matplotlib 3.2 and will be removed two minor releases later. Use ax.get_subplotspec().colspan.start instead.\n",
      "  if not layout[ax.rowNum + 1, ax.colNum]:\n"
     ]
    },
    {
     "data": {
      "text/plain": [
       "array([[<matplotlib.axes._subplots.AxesSubplot object at 0x000002313B95CA90>,\n",
       "        <matplotlib.axes._subplots.AxesSubplot object at 0x000002313BB272E8>,\n",
       "        <matplotlib.axes._subplots.AxesSubplot object at 0x000002313BB5D668>,\n",
       "        <matplotlib.axes._subplots.AxesSubplot object at 0x000002313B9BC9B0>],\n",
       "       [<matplotlib.axes._subplots.AxesSubplot object at 0x000002313B9E9D30>,\n",
       "        <matplotlib.axes._subplots.AxesSubplot object at 0x000002313BA260F0>,\n",
       "        <matplotlib.axes._subplots.AxesSubplot object at 0x000002313BA53470>,\n",
       "        <matplotlib.axes._subplots.AxesSubplot object at 0x000002313BA847B8>],\n",
       "       [<matplotlib.axes._subplots.AxesSubplot object at 0x000002313BA84828>,\n",
       "        <matplotlib.axes._subplots.AxesSubplot object at 0x000002313BAE2EF0>,\n",
       "        <matplotlib.axes._subplots.AxesSubplot object at 0x000002313BFBF2B0>,\n",
       "        <matplotlib.axes._subplots.AxesSubplot object at 0x000002313BFEC630>],\n",
       "       [<matplotlib.axes._subplots.AxesSubplot object at 0x000002313C01E9B0>,\n",
       "        <matplotlib.axes._subplots.AxesSubplot object at 0x000002313C051D30>,\n",
       "        <matplotlib.axes._subplots.AxesSubplot object at 0x000002313C0910F0>,\n",
       "        <matplotlib.axes._subplots.AxesSubplot object at 0x000002313C0C2470>]],\n",
       "      dtype=object)"
      ]
     },
     "execution_count": 185,
     "metadata": {},
     "output_type": "execute_result"
    },
    {
     "data": {
      "image/png": "[encoded data removed]",
      "text/plain": [
       "<Figure size 1152x720 with 16 Axes>"
      ]
     },
     "metadata": {
      "needs_background": "light"
     },
     "output_type": "display_data"
    }
   ],
   "source": [
    "df_feat.hist(figsize=(16,10))"
   ]
  },
  {
   "cell_type": "code",
   "execution_count": 186,
   "metadata": {},
   "outputs": [],
   "source": [
    "#build Z-score function to normalize current change to custom historical period\n",
    "def z_score(x):\n",
    "    x = np.array(x)\n",
    "    z = (x[-1] - x.mean())/x.std()\n",
    "    return z"
   ]
  },
  {
   "cell_type": "code",
   "execution_count": 187,
   "metadata": {},
   "outputs": [
    {
     "name": "stderr",
     "output_type": "stream",
     "text": [
      "c:\\users\\mattk\\appdata\\local\\programs\\python\\python36\\lib\\site-packages\\ipykernel_launcher.py:6: FutureWarning: Currently, 'apply' passes the values as ndarrays to the applied function. In the future, this will change to passing it as Series objects. You need to specify 'raw=True' to keep the current behaviour, and you can pass 'raw=False' to silence this warning\n",
      "  \n"
     ]
    }
   ],
   "source": [
    "X_scaled2 = df_feat.copy()\n",
    "X_scaled2['lunemp'] = np.log(df_feat['UnEmp'])\n",
    "X_scaled2.drop(['UnEmp'],axis=1,inplace=True)\n",
    "X_scaled2= pd.DataFrame(scaler.fit_transform(X_scaled2.dropna()),columns=X_scaled2.columns,index=X_scaled2.index)\n",
    "\n",
    "df2 = X_scaled2.rolling(36).apply(z_score).dropna()\n",
    "\n",
    "df_all = X_scaled2.join(df2,rsuffix='_36mZ').dropna()\n",
    "\n",
    "\n"
   ]
  },
  {
   "cell_type": "code",
   "execution_count": 64,
   "metadata": {},
   "outputs": [],
   "source": [
    "# df3 = df2.dropna().copy()\n",
    "# df3 = df3-df3.shift(1)"
   ]
  },
  {
   "cell_type": "code",
   "execution_count": 65,
   "metadata": {},
   "outputs": [],
   "source": [
    "# df_all = X_scaled.join(df2,rsuffix='_36mZ').dropna()\n",
    "# df_all = df_all.join(df3,rsuffix='_changeZ').dropna()"
   ]
  },
  {
   "cell_type": "code",
   "execution_count": 188,
   "metadata": {},
   "outputs": [
    {
     "data": {
      "text/html": [
       "<div>\n",
       "<style scoped>\n",
       "    .dataframe tbody tr th:only-of-type {\n",
       "        vertical-align: middle;\n",
       "    }\n",
       "\n",
       "    .dataframe tbody tr th {\n",
       "        vertical-align: top;\n",
       "    }\n",
       "\n",
       "    .dataframe thead th {\n",
       "        text-align: right;\n",
       "    }\n",
       "</style>\n",
       "<table border=\"1\" class=\"dataframe\">\n",
       "  <thead>\n",
       "    <tr style=\"text-align: right;\">\n",
       "      <th></th>\n",
       "      <th>3M_Rate</th>\n",
       "      <th>10Y_2Y_Curve</th>\n",
       "      <th>5y5y_Forward</th>\n",
       "      <th>Core_PCE</th>\n",
       "      <th>NFP</th>\n",
       "      <th>Hstarts</th>\n",
       "      <th>IP</th>\n",
       "      <th>ISM</th>\n",
       "      <th>Mich_Sent</th>\n",
       "      <th>Mich_Inf</th>\n",
       "      <th>...</th>\n",
       "      <th>Core_PCE_36mZ</th>\n",
       "      <th>NFP_36mZ</th>\n",
       "      <th>Hstarts_36mZ</th>\n",
       "      <th>IP_36mZ</th>\n",
       "      <th>ISM_36mZ</th>\n",
       "      <th>Mich_Sent_36mZ</th>\n",
       "      <th>Mich_Inf_36mZ</th>\n",
       "      <th>CPI_36mZ</th>\n",
       "      <th>5y5y.3m_36mZ</th>\n",
       "      <th>lunemp_36mZ</th>\n",
       "    </tr>\n",
       "  </thead>\n",
       "  <tbody>\n",
       "    <tr>\n",
       "      <th>1981-01-01</th>\n",
       "      <td>2.923102</td>\n",
       "      <td>-1.750874</td>\n",
       "      <td>1.880165</td>\n",
       "      <td>3.316864</td>\n",
       "      <td>-0.212631</td>\n",
       "      <td>0.435801</td>\n",
       "      <td>-1.097857</td>\n",
       "      <td>-0.490657</td>\n",
       "      <td>-1.180362</td>\n",
       "      <td>3.543033</td>\n",
       "      <td>...</td>\n",
       "      <td>1.251023</td>\n",
       "      <td>-0.394165</td>\n",
       "      <td>-0.367478</td>\n",
       "      <td>-0.784175</td>\n",
       "      <td>-0.313611</td>\n",
       "      <td>0.208328</td>\n",
       "      <td>0.633432</td>\n",
       "      <td>-0.864708</td>\n",
       "      <td>-1.670168</td>\n",
       "      <td>1.574015</td>\n",
       "    </tr>\n",
       "    <tr>\n",
       "      <th>1981-02-01</th>\n",
       "      <td>2.859565</td>\n",
       "      <td>-1.783853</td>\n",
       "      <td>2.079076</td>\n",
       "      <td>2.612643</td>\n",
       "      <td>-0.299608</td>\n",
       "      <td>-0.322085</td>\n",
       "      <td>-0.929026</td>\n",
       "      <td>-0.559620</td>\n",
       "      <td>-1.536453</td>\n",
       "      <td>3.006116</td>\n",
       "      <td>...</td>\n",
       "      <td>0.381646</td>\n",
       "      <td>-0.441861</td>\n",
       "      <td>-1.214862</td>\n",
       "      <td>-0.636700</td>\n",
       "      <td>-0.338168</td>\n",
       "      <td>-0.269944</td>\n",
       "      <td>-0.109363</td>\n",
       "      <td>-0.896660</td>\n",
       "      <td>-1.095122</td>\n",
       "      <td>1.365704</td>\n",
       "    </tr>\n",
       "    <tr>\n",
       "      <th>1981-03-01</th>\n",
       "      <td>2.464527</td>\n",
       "      <td>-1.491342</td>\n",
       "      <td>2.029175</td>\n",
       "      <td>1.667679</td>\n",
       "      <td>-0.140150</td>\n",
       "      <td>-0.171012</td>\n",
       "      <td>0.550512</td>\n",
       "      <td>-0.421694</td>\n",
       "      <td>-1.568105</td>\n",
       "      <td>2.170913</td>\n",
       "      <td>...</td>\n",
       "      <td>-0.778549</td>\n",
       "      <td>-0.252438</td>\n",
       "      <td>-0.980673</td>\n",
       "      <td>0.445522</td>\n",
       "      <td>-0.225899</td>\n",
       "      <td>-0.282318</td>\n",
       "      <td>-1.296860</td>\n",
       "      <td>-0.900246</td>\n",
       "      <td>-0.281923</td>\n",
       "      <td>1.292546</td>\n",
       "    </tr>\n",
       "    <tr>\n",
       "      <th>1981-04-01</th>\n",
       "      <td>2.555689</td>\n",
       "      <td>-1.511987</td>\n",
       "      <td>2.206714</td>\n",
       "      <td>2.125611</td>\n",
       "      <td>-0.294776</td>\n",
       "      <td>-0.035045</td>\n",
       "      <td>-0.907460</td>\n",
       "      <td>-0.076880</td>\n",
       "      <td>-1.101231</td>\n",
       "      <td>2.648172</td>\n",
       "      <td>...</td>\n",
       "      <td>-0.215513</td>\n",
       "      <td>-0.351897</td>\n",
       "      <td>-0.775329</td>\n",
       "      <td>-0.569293</td>\n",
       "      <td>0.031906</td>\n",
       "      <td>0.495189</td>\n",
       "      <td>-0.687203</td>\n",
       "      <td>-0.507397</td>\n",
       "      <td>-0.111058</td>\n",
       "      <td>0.991571</td>\n",
       "    </tr>\n",
       "    <tr>\n",
       "      <th>1981-05-01</th>\n",
       "      <td>3.276703</td>\n",
       "      <td>-2.465354</td>\n",
       "      <td>2.273855</td>\n",
       "      <td>2.369765</td>\n",
       "      <td>-0.584701</td>\n",
       "      <td>-0.588982</td>\n",
       "      <td>0.649235</td>\n",
       "      <td>0.250693</td>\n",
       "      <td>-0.792619</td>\n",
       "      <td>2.230570</td>\n",
       "      <td>...</td>\n",
       "      <td>0.066031</td>\n",
       "      <td>-0.615932</td>\n",
       "      <td>-1.378300</td>\n",
       "      <td>0.622357</td>\n",
       "      <td>0.285809</td>\n",
       "      <td>1.053239</td>\n",
       "      <td>-1.318851</td>\n",
       "      <td>0.230822</td>\n",
       "      <td>-1.546538</td>\n",
       "      <td>1.278290</td>\n",
       "    </tr>\n",
       "  </tbody>\n",
       "</table>\n",
       "<p>5 rows × 26 columns</p>\n",
       "</div>"
      ],
      "text/plain": [
       "             3M_Rate  10Y_2Y_Curve  5y5y_Forward  Core_PCE       NFP  \\\n",
       "1981-01-01  2.923102     -1.750874      1.880165  3.316864 -0.212631   \n",
       "1981-02-01  2.859565     -1.783853      2.079076  2.612643 -0.299608   \n",
       "1981-03-01  2.464527     -1.491342      2.029175  1.667679 -0.140150   \n",
       "1981-04-01  2.555689     -1.511987      2.206714  2.125611 -0.294776   \n",
       "1981-05-01  3.276703     -2.465354      2.273855  2.369765 -0.584701   \n",
       "\n",
       "             Hstarts        IP       ISM  Mich_Sent  Mich_Inf  ...  \\\n",
       "1981-01-01  0.435801 -1.097857 -0.490657  -1.180362  3.543033  ...   \n",
       "1981-02-01 -0.322085 -0.929026 -0.559620  -1.536453  3.006116  ...   \n",
       "1981-03-01 -0.171012  0.550512 -0.421694  -1.568105  2.170913  ...   \n",
       "1981-04-01 -0.035045 -0.907460 -0.076880  -1.101231  2.648172  ...   \n",
       "1981-05-01 -0.588982  0.649235  0.250693  -0.792619  2.230570  ...   \n",
       "\n",
       "            Core_PCE_36mZ  NFP_36mZ  Hstarts_36mZ   IP_36mZ  ISM_36mZ  \\\n",
       "1981-01-01       1.251023 -0.394165     -0.367478 -0.784175 -0.313611   \n",
       "1981-02-01       0.381646 -0.441861     -1.214862 -0.636700 -0.338168   \n",
       "1981-03-01      -0.778549 -0.252438     -0.980673  0.445522 -0.225899   \n",
       "1981-04-01      -0.215513 -0.351897     -0.775329 -0.569293  0.031906   \n",
       "1981-05-01       0.066031 -0.615932     -1.378300  0.622357  0.285809   \n",
       "\n",
       "            Mich_Sent_36mZ  Mich_Inf_36mZ  CPI_36mZ  5y5y.3m_36mZ  lunemp_36mZ  \n",
       "1981-01-01        0.208328       0.633432 -0.864708     -1.670168     1.574015  \n",
       "1981-02-01       -0.269944      -0.109363 -0.896660     -1.095122     1.365704  \n",
       "1981-03-01       -0.282318      -1.296860 -0.900246     -0.281923     1.292546  \n",
       "1981-04-01        0.495189      -0.687203 -0.507397     -0.111058     0.991571  \n",
       "1981-05-01        1.053239      -1.318851  0.230822     -1.546538     1.278290  \n",
       "\n",
       "[5 rows x 26 columns]"
      ]
     },
     "execution_count": 188,
     "metadata": {},
     "output_type": "execute_result"
    }
   ],
   "source": [
    "df_all.head()"
   ]
  },
  {
   "cell_type": "code",
   "execution_count": 189,
   "metadata": {
    "scrolled": true
   },
   "outputs": [
    {
     "data": {
      "text/plain": [
       "(468, 26)"
      ]
     },
     "execution_count": 189,
     "metadata": {},
     "output_type": "execute_result"
    }
   ],
   "source": [
    "df_all.shape"
   ]
  },
  {
   "cell_type": "code",
   "execution_count": 190,
   "metadata": {},
   "outputs": [],
   "source": [
    "returns = returns[df_all.index[0]:]"
   ]
  },
  {
   "cell_type": "code",
   "execution_count": 191,
   "metadata": {},
   "outputs": [],
   "source": [
    "df_feat_train = df_all.loc[:'2005',:]\n",
    "df_feat_test = df_all.loc['2006':,:]\n",
    "\n",
    "returns_train = returns.loc[:'2005',:]\n",
    "returns_test = returns.loc['2006':,:]"
   ]
  },
  {
   "cell_type": "code",
   "execution_count": 192,
   "metadata": {},
   "outputs": [],
   "source": [
    "df_feat_train.to_csv('processed_features_train_exp.csv')\n",
    "df_feat_test.to_csv('processed_features_test_exp.csv')\n",
    "\n",
    "returns_train.to_csv('processed_returns_train_exp.csv')\n",
    "returns_test.to_csv('processed_returns_test_exp.csv')"
   ]
  },
  {
   "cell_type": "code",
   "execution_count": null,
   "metadata": {},
   "outputs": [],
   "source": []
  }
 ],
 "metadata": {
  "kernelspec": {
   "display_name": "Python 3",
   "language": "python",
   "name": "python3"
  },
  "language_info": {
   "codemirror_mode": {
    "name": "ipython",
    "version": 3
   },
   "file_extension": ".py",
   "mimetype": "text/x-python",
   "name": "python",
   "nbconvert_exporter": "python",
   "pygments_lexer": "ipython3",
   "version": "3.6.8"
  },
  "varInspector": {
   "cols": {
    "lenName": 16,
    "lenType": 16,
    "lenVar": 40
   },
   "kernels_config": {
    "python": {
     "delete_cmd_postfix": "",
     "delete_cmd_prefix": "del ",
     "library": "var_list.py",
     "varRefreshCmd": "print(var_dic_list())"
    },
    "r": {
     "delete_cmd_postfix": ") ",
     "delete_cmd_prefix": "rm(",
     "library": "var_list.r",
     "varRefreshCmd": "cat(var_dic_list()) "
    }
   },
   "types_to_exclude": [
    "module",
    "function",
    "builtin_function_or_method",
    "instance",
    "_Feature"
   ],
   "window_display": false
  }
 },
 "nbformat": 4,
 "nbformat_minor": 2
}
